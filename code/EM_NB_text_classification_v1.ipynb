{
 "cells": [
  {
   "cell_type": "code",
   "execution_count": 1,
   "metadata": {
    "collapsed": true
   },
   "outputs": [],
   "source": [
    "# Import packages and libraries\n",
    "import numpy as np\n",
    "import random as rnd\n",
    "\n",
    "from scipy.sparse import csr_matrix\n",
    "from sklearn.datasets import fetch_20newsgroups\n",
    "from sklearn.feature_extraction.text import TfidfVectorizer\n",
    "from sklearn.model_selection import train_test_split\n",
    "from sklearn.naive_bayes import MultinomialNB\n",
    "from sklearn import metrics\n",
    "from pprint import pprint"
   ]
  },
  {
   "cell_type": "code",
   "execution_count": 2,
   "metadata": {
    "collapsed": true
   },
   "outputs": [],
   "source": [
    "# Load train and test data set with class labels \n",
    "train_Xy = fetch_20newsgroups(subset='train', remove=('headers', 'footers', 'quotes'))\n",
    "test_Xy = fetch_20newsgroups(subset='test', remove=('headers', 'footers', 'quotes'))"
   ]
  },
  {
   "cell_type": "code",
   "execution_count": 3,
   "metadata": {
    "collapsed": true
   },
   "outputs": [],
   "source": [
    "# Convert all text data into tf-idf vectors\n",
    "vectorizer = TfidfVectorizer()\n",
    "train_vec = vectorizer.fit_transform(train_Xy.data)\n",
    "test_vec = vectorizer.transform(test_Xy.data)"
   ]
  },
  {
   "cell_type": "code",
   "execution_count": 4,
   "metadata": {
    "collapsed": false
   },
   "outputs": [
    {
     "name": "stdout",
     "output_type": "stream",
     "text": [
      "(3394, 101631) (7920, 101631)\n"
     ]
    }
   ],
   "source": [
    "# Divide train data set into labeled and unlabeled data sets\n",
    "n_train_data = train_vec.shape[0]\n",
    "split_ratio = 0.3 # labeled vs unlabeled\n",
    "X_l, X_u, y_l, y_u = train_test_split(train_vec, train_Xy.target, train_size=split_ratio)\n",
    "print X_l.shape, X_u.shape"
   ]
  },
  {
   "cell_type": "code",
   "execution_count": 5,
   "metadata": {
    "collapsed": false
   },
   "outputs": [
    {
     "data": {
      "text/plain": [
       "MultinomialNB(alpha=1e-08, class_prior=None, fit_prior=True)"
      ]
     },
     "execution_count": 5,
     "metadata": {},
     "output_type": "execute_result"
    }
   ],
   "source": [
    "# Train Naive Bayes classifier (imported) \n",
    "# using both labeled and unlabeled data set\n",
    "clf = MultinomialNB(alpha=1e-8)\n",
    "clf.fit(X_l, y_l)"
   ]
  },
  {
   "cell_type": "code",
   "execution_count": 6,
   "metadata": {
    "collapsed": false
   },
   "outputs": [
    {
     "name": "stdout",
     "output_type": "stream",
     "text": [
      "                          precision    recall  f1-score   support\n",
      "\n",
      "             alt.atheism       0.52      0.26      0.35       319\n",
      "           comp.graphics       0.53      0.57      0.55       389\n",
      " comp.os.ms-windows.misc       0.52      0.34      0.41       394\n",
      "comp.sys.ibm.pc.hardware       0.60      0.51      0.55       392\n",
      "   comp.sys.mac.hardware       0.58      0.51      0.54       385\n",
      "          comp.windows.x       0.64      0.68      0.66       395\n",
      "            misc.forsale       0.70      0.55      0.62       390\n",
      "               rec.autos       0.74      0.46      0.57       396\n",
      "         rec.motorcycles       0.72      0.50      0.59       398\n",
      "      rec.sport.baseball       0.88      0.73      0.80       397\n",
      "        rec.sport.hockey       0.91      0.84      0.88       399\n",
      "               sci.crypt       0.49      0.73      0.59       396\n",
      "         sci.electronics       0.65      0.35      0.45       393\n",
      "                 sci.med       0.68      0.66      0.67       396\n",
      "               sci.space       0.37      0.78      0.51       394\n",
      "  soc.religion.christian       0.54      0.70      0.61       398\n",
      "      talk.politics.guns       0.45      0.65      0.53       364\n",
      "   talk.politics.mideast       0.61      0.77      0.68       376\n",
      "      talk.politics.misc       0.31      0.41      0.36       310\n",
      "      talk.religion.misc       0.34      0.16      0.22       251\n",
      "\n",
      "             avg / total       0.60      0.57      0.57      7532\n",
      "\n"
     ]
    }
   ],
   "source": [
    "# Evaluate NB classifier using test data set\n",
    "pred = clf.predict(test_vec)\n",
    "print(metrics.classification_report(test_Xy.target, pred, target_names=test_Xy.target_names))"
   ]
  },
  {
   "cell_type": "code",
   "execution_count": 7,
   "metadata": {
    "collapsed": false
   },
   "outputs": [
    {
     "name": "stdout",
     "output_type": "stream",
     "text": [
      "array([[ 84,   0,   0,   1,   1,   0,   3,   1,   4,   4,   2,  23,   1,\n",
      "          8,  21,  83,  14,  29,  23,  17],\n",
      "       [  2, 222,  20,  12,  13,  35,   4,   0,   3,   1,   0,  25,   3,\n",
      "          6,  38,   2,   1,   1,   1,   0],\n",
      "       [  1,  50, 135,  47,  21,  53,   4,   2,   3,   0,   0,  20,   2,\n",
      "         12,  27,   3,   3,   3,   8,   0],\n",
      "       [  0,  21,  40, 199,  45,  14,  15,   2,   1,   0,   0,  14,  21,\n",
      "          1,  15,   0,   3,   0,   1,   0],\n",
      "       [  0,  19,  18,  26, 197,  11,  15,   3,   1,   1,   0,  20,  12,\n",
      "          7,  43,   2,   5,   2,   3,   0],\n",
      "       [  0,  50,  16,   4,   5, 268,   3,   2,   2,   0,   0,  15,   1,\n",
      "          4,  18,   0,   4,   1,   2,   0],\n",
      "       [  1,   8,   6,  25,  31,   4, 215,  15,   8,   5,   3,   8,   6,\n",
      "          5,  29,   1,  10,   3,   7,   0],\n",
      "       [  3,   5,   3,   3,   2,   3,  10, 184,  34,   5,   3,  12,  10,\n",
      "          6,  55,   5,  26,   5,  20,   2],\n",
      "       [  4,   3,   2,   0,   0,   3,   7,  16, 199,   2,   5,  14,  13,\n",
      "         13,  33,   8,  27,  16,  29,   4],\n",
      "       [  2,   2,   0,   0,   0,   2,   4,   0,   3, 288,  13,   8,   1,\n",
      "          7,  23,   7,  14,   2,  20,   1],\n",
      "       [  4,   0,   1,   0,   0,   0,   0,   1,   1,   6, 336,   4,   0,\n",
      "          3,  14,   4,   6,   7,  11,   1],\n",
      "       [  0,   4,   5,   1,   2,   2,   0,   1,   3,   2,   1, 291,   1,\n",
      "          3,  30,   3,  22,  14,   8,   3],\n",
      "       [  0,  25,   8,  10,  20,   9,  18,   7,   5,   1,   1,  52, 137,\n",
      "         12,  61,   2,  12,   6,   7,   0],\n",
      "       [  2,   6,   3,   1,   2,   1,   3,   7,   1,   1,   1,  10,   1,\n",
      "        263,  31,  14,  14,  13,  19,   3],\n",
      "       [  2,   3,   3,   0,   0,   5,   2,   2,   1,   2,   0,  12,   2,\n",
      "          7, 309,   2,   5,   6,  30,   1],\n",
      "       [ 19,   0,   1,   0,   1,   2,   0,   0,   1,   1,   0,   5,   0,\n",
      "          8,  18, 279,   8,  14,  18,  23],\n",
      "       [  2,   0,   0,   0,   0,   2,   1,   1,   3,   2,   0,  22,   1,\n",
      "          8,  20,  10, 238,  18,  27,   9],\n",
      "       [  6,   1,   0,   0,   0,   0,   0,   1,   0,   0,   0,  12,   0,\n",
      "          3,   7,  13,  16, 290,  23,   4],\n",
      "       [  8,   1,   0,   0,   0,   0,   1,   3,   2,   3,   0,  18,   0,\n",
      "          8,  20,   8,  78,  21, 128,  11],\n",
      "       [ 22,   2,   1,   1,   1,   2,   0,   1,   1,   2,   3,   7,   0,\n",
      "          5,  16,  75,  27,  23,  22,  40]])\n"
     ]
    }
   ],
   "source": [
    "pprint(metrics.confusion_matrix(test_Xy.target, pred))"
   ]
  },
  {
   "cell_type": "code",
   "execution_count": 8,
   "metadata": {
    "collapsed": false
   },
   "outputs": [
    {
     "name": "stdout",
     "output_type": "stream",
     "text": [
      "0.571163037706\n"
     ]
    }
   ],
   "source": [
    "print(metrics.accuracy_score(test_Xy.target, pred))"
   ]
  },
  {
   "cell_type": "code",
   "execution_count": 11,
   "metadata": {
    "collapsed": false
   },
   "outputs": [
    {
     "data": {
      "text/plain": [
       "(7532, 20)"
      ]
     },
     "execution_count": 11,
     "metadata": {},
     "output_type": "execute_result"
    }
   ],
   "source": [
    "pcd = clf.predict_proba(test_vec)\n",
    "pcd.shape"
   ]
  },
  {
   "cell_type": "code",
   "execution_count": 14,
   "metadata": {
    "collapsed": false
   },
   "outputs": [
    {
     "data": {
      "text/plain": [
       "array([ 1.,  1.,  1.,  1.,  1.,  1.,  1.,  1.,  1.,  1.])"
      ]
     },
     "execution_count": 14,
     "metadata": {},
     "output_type": "execute_result"
    }
   ],
   "source": [
    "np.sum(pcd[0:10,:], axis=1)"
   ]
  },
  {
   "cell_type": "code",
   "execution_count": null,
   "metadata": {
    "collapsed": false
   },
   "outputs": [],
   "source": [
    "np.repeat(xx, 3, axis=1)"
   ]
  },
  {
   "cell_type": "code",
   "execution_count": null,
   "metadata": {
    "collapsed": true
   },
   "outputs": [],
   "source": []
  }
 ],
 "metadata": {
  "kernelspec": {
   "display_name": "Python [Root]",
   "language": "python",
   "name": "Python [Root]"
  },
  "language_info": {
   "codemirror_mode": {
    "name": "ipython",
    "version": 2
   },
   "file_extension": ".py",
   "mimetype": "text/x-python",
   "name": "python",
   "nbconvert_exporter": "python",
   "pygments_lexer": "ipython2",
   "version": "2.7.12"
  }
 },
 "nbformat": 4,
 "nbformat_minor": 0
}
