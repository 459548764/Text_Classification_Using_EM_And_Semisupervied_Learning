{
 "cells": [
  {
   "cell_type": "code",
   "execution_count": 1,
   "metadata": {
    "collapsed": true
   },
   "outputs": [],
   "source": [
    "# Import packages and libraries\n",
    "import numpy as np\n",
    "import random as rnd\n",
    "\n",
    "from scipy.sparse import csr_matrix\n",
    "from sklearn.datasets import fetch_20newsgroups\n",
    "from sklearn.feature_extraction.text import TfidfVectorizer\n",
    "from sklearn.model_selection import train_test_split\n",
    "from sklearn.naive_bayes import MultinomialNB\n",
    "from sklearn import metrics\n",
    "from pprint import pprint"
   ]
  },
  {
   "cell_type": "code",
   "execution_count": 2,
   "metadata": {
    "collapsed": true
   },
   "outputs": [],
   "source": [
    "# Load train and test data set with class labels \n",
    "train_Xy = fetch_20newsgroups(subset='train', remove=('headers', 'footers', 'quotes'))\n",
    "test_Xy = fetch_20newsgroups(subset='test', remove=('headers', 'footers', 'quotes'))"
   ]
  },
  {
   "cell_type": "code",
   "execution_count": 3,
   "metadata": {
    "collapsed": true
   },
   "outputs": [],
   "source": [
    "# Convert all text data into tf-idf vectors\n",
    "vectorizer = TfidfVectorizer()\n",
    "train_vec = vectorizer.fit_transform(train_Xy.data)\n",
    "test_vec = vectorizer.transform(test_Xy.data)"
   ]
  },
  {
   "cell_type": "code",
   "execution_count": 4,
   "metadata": {
    "collapsed": false
   },
   "outputs": [
    {
     "name": "stdout",
     "output_type": "stream",
     "text": [
      "(3394, 101631) (7920, 101631)\n"
     ]
    }
   ],
   "source": [
    "# Divide train data set into labeled and unlabeled data sets\n",
    "n_train_data = train_vec.shape[0]\n",
    "split_ratio = 0.3 # labeled vs unlabeled\n",
    "X_l, X_u, y_l, y_u = train_test_split(train_vec, train_Xy.target, train_size=split_ratio)\n",
    "print X_l.shape, X_u.shape"
   ]
  },
  {
   "cell_type": "code",
   "execution_count": 5,
   "metadata": {
    "collapsed": false
   },
   "outputs": [
    {
     "data": {
      "text/plain": [
       "MultinomialNB(alpha=1e-08, class_prior=None, fit_prior=True)"
      ]
     },
     "execution_count": 5,
     "metadata": {},
     "output_type": "execute_result"
    }
   ],
   "source": [
    "# Train Naive Bayes classifier (imported) \n",
    "# using both labeled and unlabeled data set\n",
    "clf = MultinomialNB(alpha=1e-8)\n",
    "clf.fit(X_l, y_l)"
   ]
  },
  {
   "cell_type": "code",
   "execution_count": 6,
   "metadata": {
    "collapsed": false
   },
   "outputs": [
    {
     "name": "stdout",
     "output_type": "stream",
     "text": [
      "                          precision    recall  f1-score   support\n",
      "\n",
      "             alt.atheism       0.42      0.39      0.41       319\n",
      "           comp.graphics       0.53      0.56      0.54       389\n",
      " comp.os.ms-windows.misc       0.30      0.36      0.33       394\n",
      "comp.sys.ibm.pc.hardware       0.49      0.62      0.55       392\n",
      "   comp.sys.mac.hardware       0.77      0.35      0.48       385\n",
      "          comp.windows.x       0.61      0.78      0.68       395\n",
      "            misc.forsale       0.68      0.62      0.65       390\n",
      "               rec.autos       0.80      0.43      0.56       396\n",
      "         rec.motorcycles       0.69      0.57      0.62       398\n",
      "      rec.sport.baseball       0.90      0.68      0.77       397\n",
      "        rec.sport.hockey       0.73      0.86      0.79       399\n",
      "               sci.crypt       0.55      0.70      0.61       396\n",
      "         sci.electronics       0.58      0.35      0.43       393\n",
      "                 sci.med       0.66      0.69      0.68       396\n",
      "               sci.space       0.62      0.65      0.63       394\n",
      "  soc.religion.christian       0.57      0.70      0.62       398\n",
      "      talk.politics.guns       0.40      0.64      0.49       364\n",
      "   talk.politics.mideast       0.57      0.76      0.65       376\n",
      "      talk.politics.misc       0.46      0.36      0.40       310\n",
      "      talk.religion.misc       0.32      0.16      0.22       251\n",
      "\n",
      "             avg / total       0.59      0.57      0.57      7532\n",
      "\n"
     ]
    }
   ],
   "source": [
    "# Evaluate NB classifier using test data set\n",
    "pred = clf.predict(test_vec)\n",
    "print(metrics.classification_report(test_Xy.target, pred, target_names=test_Xy.target_names))"
   ]
  },
  {
   "cell_type": "code",
   "execution_count": 7,
   "metadata": {
    "collapsed": false
   },
   "outputs": [
    {
     "name": "stdout",
     "output_type": "stream",
     "text": [
      "array([[126,   0,   9,   2,   2,   4,   1,   0,   5,   1,   6,   8,   1,\n",
      "          6,   9,  69,  17,  24,   6,  23],\n",
      "       [  5, 218,  31,  14,   7,  51,   4,   1,   0,   1,   3,  18,   3,\n",
      "          7,  11,   4,   6,   3,   2,   0],\n",
      "       [  4,  43, 141,  74,   1,  62,  10,   2,   5,   0,   2,  20,   0,\n",
      "          6,  10,   2,   3,   3,   5,   1],\n",
      "       [  0,  24,  32, 244,  10,  25,  21,   1,   2,   0,   1,  14,   9,\n",
      "          6,   1,   0,   1,   0,   1,   0],\n",
      "       [  0,  32,  38,  69, 133,  16,  20,   5,   0,   2,   3,  12,  16,\n",
      "          7,  16,   2,   8,   1,   4,   1],\n",
      "       [  1,  21,  18,   8,   3, 307,   4,   1,   0,   0,   2,   8,   4,\n",
      "          6,   5,   0,   5,   1,   1,   0],\n",
      "       [  0,   8,  13,  32,  12,   6, 241,   8,   4,   4,  15,   0,   9,\n",
      "          6,   7,   1,  15,   4,   5,   0],\n",
      "       [  3,   3,  28,   4,   0,   1,  13, 172,  54,   3,   5,   9,  19,\n",
      "          7,  18,   3,  35,   6,  10,   3],\n",
      "       [  6,   4,  15,   2,   1,   2,  11,   8, 226,   5,  13,  13,  14,\n",
      "          8,   7,   3,  31,  12,  11,   6],\n",
      "       [  5,   2,  17,   1,   1,   3,   0,   1,   2, 270,  44,   6,   1,\n",
      "          7,   3,   7,  15,   5,   3,   4],\n",
      "       [  6,   2,  10,   1,   0,   0,   1,   0,   2,   4, 342,   7,   1,\n",
      "          1,   3,   3,   3,   8,   5,   0],\n",
      "       [  3,   7,  22,   2,   0,   5,   3,   2,   3,   2,   6, 277,   4,\n",
      "          3,   7,   4,  20,  12,  10,   4],\n",
      "       [  2,  30,  16,  38,   1,  14,  19,   7,  13,   1,   4,  39, 136,\n",
      "         23,  26,   1,  15,   5,   3,   0],\n",
      "       [ 10,   4,  15,   4,   0,   1,   1,   2,   3,   0,   2,   2,   5,\n",
      "        273,  10,  12,  18,  20,  11,   3],\n",
      "       [  7,   9,  19,   0,   1,   3,   3,   1,   3,   2,   3,  16,   6,\n",
      "         14, 256,   4,  18,  19,   8,   2],\n",
      "       [ 34,   2,  15,   0,   0,   2,   1,   0,   1,   1,   2,   3,   0,\n",
      "          3,   2, 278,  10,  16,   5,  23],\n",
      "       [  7,   0,  12,   0,   1,   0,   1,   1,   2,   1,   5,  18,   2,\n",
      "          6,   8,   7, 232,  31,  19,  11],\n",
      "       [ 17,   1,   6,   0,   0,   0,   0,   0,   0,   1,   2,  14,   0,\n",
      "          1,   0,  20,  18, 285,   8,   3],\n",
      "       [ 16,   0,   9,   0,   0,   1,   1,   2,   1,   2,   5,  18,   2,\n",
      "         12,  10,   7,  82,  26, 111,   5],\n",
      "       [ 46,   3,   7,   0,   0,   3,   0,   0,   3,   1,   4,   4,   1,\n",
      "         10,   5,  65,  24,  21,  13,  41]])\n"
     ]
    }
   ],
   "source": [
    "pprint(metrics.confusion_matrix(test_Xy.target, pred))"
   ]
  },
  {
   "cell_type": "code",
   "execution_count": 8,
   "metadata": {
    "collapsed": false
   },
   "outputs": [
    {
     "name": "stdout",
     "output_type": "stream",
     "text": [
      "0.572092405736\n"
     ]
    }
   ],
   "source": [
    "print(metrics.accuracy_score(test_Xy.target, pred))"
   ]
  },
  {
   "cell_type": "code",
   "execution_count": 42,
   "metadata": {
    "collapsed": false
   },
   "outputs": [
    {
     "name": "stdout",
     "output_type": "stream",
     "text": [
      "<type 'numpy.ndarray'> <type 'numpy.ndarray'> <type 'fortran'>\n"
     ]
    },
    {
     "data": {
      "text/plain": [
       "(20, 7920)"
      ]
     },
     "execution_count": 42,
     "metadata": {},
     "output_type": "execute_result"
    }
   ],
   "source": [
    "# from scipy.linalg import get_blas_funcs\n",
    "# b_w_d = (X_u > 0).T.toarray()\n",
    "# lp_w_c = (clf.feature_log_prob_)\n",
    "# lp_d_c = get_blas_funcs(\"gemm\", (lp_w_c, b_w_d))\n",
    "# print type(lp_w_c), type(b_w_d), type(lp_d_c)\n",
    "# # lp_d_c(alpha=1.0, a=lp_w_c, b=b_w_d.T, trans_a=True, trans_b=True)\n",
    "# lp_d_c(alpha=1.0, a=lp_w_c, b=b_w_d).shape"
   ]
  },
  {
   "cell_type": "code",
   "execution_count": null,
   "metadata": {
    "collapsed": false
   },
   "outputs": [],
   "source": []
  },
  {
   "cell_type": "code",
   "execution_count": null,
   "metadata": {
    "collapsed": true
   },
   "outputs": [],
   "source": []
  },
  {
   "cell_type": "code",
   "execution_count": null,
   "metadata": {
    "collapsed": false
   },
   "outputs": [],
   "source": []
  },
  {
   "cell_type": "code",
   "execution_count": null,
   "metadata": {
    "collapsed": true
   },
   "outputs": [],
   "source": []
  }
 ],
 "metadata": {
  "kernelspec": {
   "display_name": "Python 2",
   "language": "python",
   "name": "python2"
  },
  "language_info": {
   "codemirror_mode": {
    "name": "ipython",
    "version": 2
   },
   "file_extension": ".py",
   "mimetype": "text/x-python",
   "name": "python",
   "nbconvert_exporter": "python",
   "pygments_lexer": "ipython2",
   "version": "2.7.13"
  }
 },
 "nbformat": 4,
 "nbformat_minor": 0
}
