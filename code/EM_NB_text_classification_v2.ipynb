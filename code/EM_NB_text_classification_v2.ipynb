{
 "cells": [
  {
   "cell_type": "code",
   "execution_count": 1,
   "metadata": {
    "collapsed": true
   },
   "outputs": [],
   "source": [
    "# Import packages and libraries\n",
    "import numpy as np\n",
    "import random as rnd\n",
    "\n",
    "from sklearn.datasets import fetch_20newsgroups\n",
    "from sklearn.feature_extraction.text import TfidfVectorizer\n",
    "from sklearn.model_selection import train_test_split\n",
    "from sklearn.naive_bayes import MultinomialNB\n",
    "from sklearn import metrics\n",
    "from pprint import pprint"
   ]
  },
  {
   "cell_type": "code",
   "execution_count": 2,
   "metadata": {
    "collapsed": true
   },
   "outputs": [],
   "source": [
    "# Load train and test data set with class labels \n",
    "train_Xy = fetch_20newsgroups(subset='train', remove=('headers', 'footers', 'quotes'))\n",
    "test_Xy = fetch_20newsgroups(subset='test', remove=('headers', 'footers', 'quotes'))"
   ]
  },
  {
   "cell_type": "code",
   "execution_count": 3,
   "metadata": {
    "collapsed": true
   },
   "outputs": [],
   "source": [
    "# Convert all text data into tf-idf vectors\n",
    "vectorizer = TfidfVectorizer()\n",
    "train_vec = vectorizer.fit_transform(train_Xy.data)\n",
    "test_vec = vectorizer.transform(test_Xy.data)"
   ]
  },
  {
   "cell_type": "code",
   "execution_count": 4,
   "metadata": {
    "collapsed": false
   },
   "outputs": [
    {
     "name": "stdout",
     "output_type": "stream",
     "text": [
      "(3394, 101631) (7920, 101631)\n"
     ]
    }
   ],
   "source": [
    "# Divide train data set into labeled and unlabeled data sets\n",
    "n_train_data = train_vec.shape[0]\n",
    "split_ratio = 0.3 # labeled vs unlabeled\n",
    "X_l, X_u, y_l, y_u = train_test_split(train_vec, train_Xy.target, train_size=split_ratio)\n",
    "print X_l.shape, X_u.shape"
   ]
  },
  {
   "cell_type": "code",
   "execution_count": 5,
   "metadata": {
    "collapsed": false
   },
   "outputs": [
    {
     "data": {
      "text/plain": [
       "MultinomialNB(alpha=1e-08, class_prior=None, fit_prior=True)"
      ]
     },
     "execution_count": 5,
     "metadata": {},
     "output_type": "execute_result"
    }
   ],
   "source": [
    "# Train Naive Bayes classifier (imported) \n",
    "# using both labeled and unlabeled data set\n",
    "clf = Semi_EM_NB(alpha=1e-8) # semi supervised EM based Naive Bayes classifier\n",
    "clf.fit(X_l, y_l, X_u)"
   ]
  },
  {
   "cell_type": "code",
   "execution_count": 6,
   "metadata": {
    "collapsed": false
   },
   "outputs": [
    {
     "name": "stdout",
     "output_type": "stream",
     "text": [
      "                          precision    recall  f1-score   support\n",
      "\n",
      "             alt.atheism       0.39      0.28      0.32       319\n",
      "           comp.graphics       0.56      0.55      0.56       389\n",
      " comp.os.ms-windows.misc       0.48      0.24      0.32       394\n",
      "comp.sys.ibm.pc.hardware       0.54      0.61      0.57       392\n",
      "   comp.sys.mac.hardware       0.68      0.46      0.55       385\n",
      "          comp.windows.x       0.49      0.79      0.61       395\n",
      "            misc.forsale       0.78      0.58      0.66       390\n",
      "               rec.autos       0.76      0.45      0.57       396\n",
      "         rec.motorcycles       0.71      0.57      0.64       398\n",
      "      rec.sport.baseball       0.89      0.72      0.80       397\n",
      "        rec.sport.hockey       0.89      0.82      0.85       399\n",
      "               sci.crypt       0.59      0.69      0.64       396\n",
      "         sci.electronics       0.60      0.38      0.47       393\n",
      "                 sci.med       0.63      0.74      0.68       396\n",
      "               sci.space       0.39      0.78      0.52       394\n",
      "  soc.religion.christian       0.49      0.80      0.61       398\n",
      "      talk.politics.guns       0.47      0.56      0.52       364\n",
      "   talk.politics.mideast       0.60      0.76      0.67       376\n",
      "      talk.politics.misc       0.44      0.33      0.38       310\n",
      "      talk.religion.misc       0.30      0.15      0.20       251\n",
      "\n",
      "             avg / total       0.60      0.58      0.57      7532\n",
      "\n"
     ]
    }
   ],
   "source": [
    "# Evaluate NB classifier using test data set\n",
    "pred = clf.predict(test_vec)\n",
    "print(metrics.classification_report(test_Xy.target, pred, target_names=test_Xy.target_names))"
   ]
  },
  {
   "cell_type": "code",
   "execution_count": 7,
   "metadata": {
    "collapsed": false
   },
   "outputs": [
    {
     "name": "stdout",
     "output_type": "stream",
     "text": [
      "array([[ 88,   2,   3,   2,   1,   4,   1,   2,   3,   3,   2,   7,   1,\n",
      "         10,  19,  94,   9,  30,  10,  28],\n",
      "       [  2, 214,  13,  11,  11,  71,   3,   1,   1,   1,   0,  17,   8,\n",
      "          7,  17,   5,   2,   3,   2,   0],\n",
      "       [  2,  40,  93,  72,   6, 106,   5,   2,   0,   0,   2,  13,   3,\n",
      "          9,  30,   3,   2,   1,   3,   2],\n",
      "       [  0,  18,  24, 238,  26,  26,   9,   1,   0,   0,   0,   7,  22,\n",
      "          3,  15,   0,   2,   0,   1,   0],\n",
      "       [  0,  15,  17,  51, 176,  30,   6,   4,   1,   0,   1,  11,  14,\n",
      "         12,  34,   5,   3,   1,   2,   2],\n",
      "       [  0,  27,   6,   6,   3, 311,   2,   0,   2,   0,   2,   8,   2,\n",
      "          8,  13,   0,   1,   1,   2,   1],\n",
      "       [  1,   8,   5,  31,  13,  15, 225,  11,   4,   4,   2,   6,  11,\n",
      "          9,  26,   5,   4,   7,   2,   1],\n",
      "       [  1,   4,   6,   2,   3,   4,  12, 178,  57,   3,   2,   7,  11,\n",
      "         16,  55,   7,  17,   4,   4,   3],\n",
      "       [  5,   6,   2,   2,   2,   4,   9,  16, 228,   5,   3,  12,  12,\n",
      "          8,  25,   9,  30,   9,   7,   4],\n",
      "       [  3,   2,   0,   0,   2,   4,   1,   2,   1, 286,  15,   6,   0,\n",
      "          7,  30,  14,  11,   6,   5,   2],\n",
      "       [  6,   0,   0,   1,   0,   0,   3,   0,   1,  11, 327,   5,   1,\n",
      "          3,  18,   3,   2,  11,   4,   3],\n",
      "       [  4,   5,   4,   2,   4,   9,   1,   2,   2,   3,   1, 273,   9,\n",
      "          4,  28,   6,  12,  15,  11,   1],\n",
      "       [  0,  19,   9,  18,   9,  27,  10,   6,   7,   0,   1,  39, 150,\n",
      "         26,  56,   4,   4,   4,   4,   0],\n",
      "       [  7,   5,   3,   2,   0,   5,   0,   2,   1,   0,   1,   4,   1,\n",
      "        293,  31,  12,   8,  11,   6,   4],\n",
      "       [  7,   9,   2,   0,   0,   6,   0,   0,   0,   0,   1,   4,   4,\n",
      "         11, 307,   7,   4,  14,  14,   4],\n",
      "       [ 20,   0,   2,   0,   0,   5,   0,   0,   2,   0,   0,   3,   1,\n",
      "          7,  19, 317,   0,   6,   2,  14],\n",
      "       [ 10,   0,   0,   1,   0,   1,   1,   3,   4,   1,   3,  19,   0,\n",
      "          8,  23,  20, 205,  22,  32,  11],\n",
      "       [ 15,   2,   1,   2,   0,   0,   0,   0,   2,   1,   0,   7,   0,\n",
      "          2,  10,  22,  13, 284,  11,   4],\n",
      "       [ 18,   0,   1,   0,   1,   1,   1,   2,   2,   1,   3,  13,   1,\n",
      "         12,  18,  27,  80,  24, 102,   3],\n",
      "       [ 35,   5,   2,   1,   0,   3,   0,   1,   1,   1,   0,   2,   0,\n",
      "          9,  20,  87,  23,  18,   6,  37]])\n"
     ]
    }
   ],
   "source": [
    "pprint(metrics.confusion_matrix(test_Xy.target, pred))"
   ]
  },
  {
   "cell_type": "code",
   "execution_count": 8,
   "metadata": {
    "collapsed": false
   },
   "outputs": [
    {
     "name": "stdout",
     "output_type": "stream",
     "text": [
      "0.575146043548\n"
     ]
    }
   ],
   "source": [
    "print(metrics.accuracy_score(test_Xy.target, pred))"
   ]
  },
  {
   "cell_type": "code",
   "execution_count": null,
   "metadata": {
    "collapsed": true
   },
   "outputs": [],
   "source": []
  }
 ],
 "metadata": {
  "kernelspec": {
   "display_name": "Python 2",
   "language": "python",
   "name": "python2"
  },
  "language_info": {
   "codemirror_mode": {
    "name": "ipython",
    "version": 2
   },
   "file_extension": ".py",
   "mimetype": "text/x-python",
   "name": "python",
   "nbconvert_exporter": "python",
   "pygments_lexer": "ipython2",
   "version": "2.7.13"
  }
 },
 "nbformat": 4,
 "nbformat_minor": 0
}
