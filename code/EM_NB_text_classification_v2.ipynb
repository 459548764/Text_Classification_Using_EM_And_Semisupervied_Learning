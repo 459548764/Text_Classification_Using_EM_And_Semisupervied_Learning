{
 "cells": [
  {
   "cell_type": "code",
   "execution_count": 12,
   "metadata": {
    "collapsed": false
   },
   "outputs": [],
   "source": [
    "# Import packages and libraries\n",
    "import numpy as np\n",
    "import random as rnd\n",
    "\n",
    "from sklearn.datasets import fetch_20newsgroups\n",
    "from sklearn.feature_extraction.text import TfidfVectorizer\n",
    "from sklearn.model_selection import train_test_split\n",
    "from sklearn.naive_bayes import MultinomialNB\n",
    "from sklearn import metrics\n",
    "from pprint import pprint\n",
    "\n",
    "from Semi_EM_NB import Semi_EM_MultinomialNB"
   ]
  },
  {
   "cell_type": "code",
   "execution_count": 13,
   "metadata": {
    "collapsed": true
   },
   "outputs": [],
   "source": [
    "# Load train and test data set with class labels \n",
    "train_Xy = fetch_20newsgroups(subset='train', remove=('headers', 'footers', 'quotes'))\n",
    "test_Xy = fetch_20newsgroups(subset='test', remove=('headers', 'footers', 'quotes'))"
   ]
  },
  {
   "cell_type": "code",
   "execution_count": 14,
   "metadata": {
    "collapsed": false
   },
   "outputs": [],
   "source": [
    "# Convert all text data into tf-idf vectors \n",
    "vectorizer = TfidfVectorizer(stop_words='english', min_df=3, max_df=0.9)\n",
    "train_vec = vectorizer.fit_transform(train_Xy.data)\n",
    "test_vec = vectorizer.transform(test_Xy.data)"
   ]
  },
  {
   "cell_type": "code",
   "execution_count": 15,
   "metadata": {
    "collapsed": false
   },
   "outputs": [
    {
     "name": "stdout",
     "output_type": "stream",
     "text": [
      "(2262, 26747) (9052, 26747)\n"
     ]
    }
   ],
   "source": [
    "# Divide train data set into labeled and unlabeled data sets\n",
    "n_train_data = train_vec.shape[0]\n",
    "split_ratio = 0.2 # labeled vs unlabeled\n",
    "X_l, X_u, y_l, y_u = train_test_split(train_vec, train_Xy.target, train_size=split_ratio)\n",
    "print X_l.shape, X_u.shape"
   ]
  },
  {
   "cell_type": "code",
   "execution_count": 16,
   "metadata": {
    "collapsed": false
   },
   "outputs": [
    {
     "data": {
      "text/plain": [
       "MultinomialNB(alpha=1e-08, class_prior=None, fit_prior=True)"
      ]
     },
     "execution_count": 16,
     "metadata": {},
     "output_type": "execute_result"
    }
   ],
   "source": [
    "# Train Naive Bayes classifier (imported) \n",
    "# using labeled data set only\n",
    "nb_clf = MultinomialNB(alpha=1e-8)\n",
    "nb_clf.fit(X_l, y_l)"
   ]
  },
  {
   "cell_type": "code",
   "execution_count": 17,
   "metadata": {
    "collapsed": false
   },
   "outputs": [
    {
     "name": "stdout",
     "output_type": "stream",
     "text": [
      "-6641048.89471\n",
      "1\n",
      "-5649123.7872\n",
      "2\n",
      "-5648504.88052\n",
      "3\n",
      "-5648453.34607\n",
      "4\n",
      "-5648449.5753\n",
      "5\n",
      "-5648453.19796\n"
     ]
    },
    {
     "data": {
      "text/plain": [
       "<Semi_EM_NB.Semi_EM_MultinomialNB instance at 0x10df61950>"
      ]
     },
     "execution_count": 17,
     "metadata": {},
     "output_type": "execute_result"
    }
   ],
   "source": [
    "# Train Naive Bayes classifier (imported) \n",
    "# using both labeled and unlabeled data set\n",
    "em_nb_clf = Semi_EM_MultinomialNB(alpha=1e-8) # semi supervised EM based Naive Bayes classifier\n",
    "em_nb_clf.fit(X_l, y_l, X_u)\n",
    "# clf.fit(train_vec, train_Xy.target, X_u)"
   ]
  },
  {
   "cell_type": "code",
   "execution_count": 18,
   "metadata": {
    "collapsed": false
   },
   "outputs": [
    {
     "name": "stdout",
     "output_type": "stream",
     "text": [
      "                          precision    recall  f1-score   support\n",
      "\n",
      "             alt.atheism       0.41      0.33      0.36       319\n",
      "           comp.graphics       0.67      0.31      0.43       389\n",
      " comp.os.ms-windows.misc       0.31      0.49      0.38       394\n",
      "comp.sys.ibm.pc.hardware       0.58      0.43      0.49       392\n",
      "   comp.sys.mac.hardware       0.61      0.43      0.50       385\n",
      "          comp.windows.x       0.47      0.78      0.59       395\n",
      "            misc.forsale       0.73      0.44      0.55       390\n",
      "               rec.autos       0.65      0.54      0.59       396\n",
      "         rec.motorcycles       0.78      0.36      0.49       398\n",
      "      rec.sport.baseball       0.90      0.61      0.73       397\n",
      "        rec.sport.hockey       0.87      0.78      0.82       399\n",
      "               sci.crypt       0.51      0.66      0.58       396\n",
      "         sci.electronics       0.50      0.37      0.43       393\n",
      "                 sci.med       0.49      0.66      0.56       396\n",
      "               sci.space       0.60      0.60      0.60       394\n",
      "  soc.religion.christian       0.50      0.62      0.55       398\n",
      "      talk.politics.guns       0.44      0.52      0.48       364\n",
      "   talk.politics.mideast       0.36      0.82      0.50       376\n",
      "      talk.politics.misc       0.38      0.33      0.35       310\n",
      "      talk.religion.misc       0.27      0.08      0.13       251\n",
      "\n",
      "             avg / total       0.56      0.52      0.52      7532\n",
      "\n",
      "0.520313329793\n"
     ]
    }
   ],
   "source": [
    "# Evaluate original NB classifier using test data set\n",
    "pred = nb_clf.predict(test_vec)\n",
    "print(metrics.classification_report(test_Xy.target, pred, target_names=test_Xy.target_names))\n",
    "# pprint(metrics.confusion_matrix(test_Xy.target, pred))\n",
    "print(metrics.accuracy_score(test_Xy.target, pred))"
   ]
  },
  {
   "cell_type": "code",
   "execution_count": 19,
   "metadata": {
    "collapsed": false
   },
   "outputs": [
    {
     "name": "stdout",
     "output_type": "stream",
     "text": [
      "                          precision    recall  f1-score   support\n",
      "\n",
      "             alt.atheism       0.57      0.15      0.24       319\n",
      "           comp.graphics       0.78      0.17      0.28       389\n",
      " comp.os.ms-windows.misc       0.44      0.34      0.38       394\n",
      "comp.sys.ibm.pc.hardware       0.59      0.42      0.49       392\n",
      "   comp.sys.mac.hardware       0.69      0.36      0.47       385\n",
      "          comp.windows.x       0.35      0.84      0.49       395\n",
      "            misc.forsale       0.82      0.35      0.49       390\n",
      "               rec.autos       0.70      0.52      0.60       396\n",
      "         rec.motorcycles       0.79      0.23      0.36       398\n",
      "      rec.sport.baseball       0.96      0.53      0.68       397\n",
      "        rec.sport.hockey       0.83      0.77      0.80       399\n",
      "               sci.crypt       0.54      0.64      0.59       396\n",
      "         sci.electronics       0.53      0.31      0.39       393\n",
      "                 sci.med       0.54      0.67      0.60       396\n",
      "               sci.space       0.61      0.64      0.62       394\n",
      "  soc.religion.christian       0.51      0.69      0.59       398\n",
      "      talk.politics.guns       0.45      0.36      0.40       364\n",
      "   talk.politics.mideast       0.18      0.92      0.30       376\n",
      "      talk.politics.misc       0.55      0.18      0.27       310\n",
      "      talk.religion.misc       0.20      0.00      0.01       251\n",
      "\n",
      "             avg / total       0.59      0.47      0.47      7532\n",
      "\n",
      "0.46946362188\n"
     ]
    }
   ],
   "source": [
    "# Evaluate semi-supervised EM NB classifier using test data set\n",
    "pred = em_nb_clf.predict(test_vec)\n",
    "print(metrics.classification_report(test_Xy.target, pred, target_names=test_Xy.target_names))\n",
    "# pprint(metrics.confusion_matrix(test_Xy.target, pred))\n",
    "print(metrics.accuracy_score(test_Xy.target, pred))"
   ]
  },
  {
   "cell_type": "code",
   "execution_count": 20,
   "metadata": {
    "collapsed": false
   },
   "outputs": [],
   "source": [
    "# find the most informative features \n",
    "import numpy as np\n",
    "def show_topK(classifier, vectorizer, categories, K=10):\n",
    "    feature_names = np.asarray(vectorizer.get_feature_names())\n",
    "    for i, category in enumerate(categories):\n",
    "        topK = np.argsort(classifier.coef_[i])[-K:]\n",
    "        print(\"%s: %s\" % (category, \" \".join(feature_names[topK])))"
   ]
  },
  {
   "cell_type": "code",
   "execution_count": 21,
   "metadata": {
    "collapsed": false
   },
   "outputs": [
    {
     "name": "stdout",
     "output_type": "stream",
     "text": [
      "alt.atheism: islamic faith existence belief said just moral believe does say evidence argument atheists atheism people islam religion think don god\n",
      "comp.graphics: ftp hi like advance anybody good windows cview use program code file files know does software 3d image thanks graphics\n",
      "comp.os.ms-windows.misc: just mail ax ms fonts drivers files mouse using know problem thanks does use dos version printer driver file windows\n",
      "comp.sys.ibm.pc.hardware: use gateway bios board speed 486 using just controller thanks monitor card drives vlb scsi memory bus isa ide drive\n",
      "comp.sys.mac.hardware: cpu duo monitor 610 cards want price does thanks centris nubus lciii scsi fpu lc se problem card apple mac\n",
      "comp.windows.x: use mit using file widget problem thanks mouse windows error lib display application hi r5 sun x11r5 server motif window\n",
      "misc.forsale: good brand plus card phone mail package modem edu asking 50 price condition interested offer new shipping sell 00 sale\n",
      "rec.autos: think got fast don taurus autos know just speed drive wagon convertible honda stuff road sho engine like cars car\n",
      "rec.motorcycles: shaft right battery motorcycles wheelie got faq rode harley ve just riding motorcycle bikes helmet like ride bmw dod bike\n",
      "rec.sport.baseball: sox manager time jewish just nl say rbi batting braves hitter phillies team games pitching hit year runs baseball game\n",
      "rec.sport.hockey: think players good wings rangers pittsburgh cup teams islanders leafs pens year nhl toronto season hockey games play game team\n",
      "sci.crypt: public denning like chips privacy rsa just people don clinton security data escrow keys encryption government nsa clipper chip key\n",
      "sci.electronics: signals ll lines just good does data used ve know input amp current don use like output power circuit voltage\n",
      "sci.med: good disease food needles medical know soon edu banks surrender pitt gordon shameful geb cadre skepticism dsl intellect chastity n3jxp\n",
      "sci.space: ago spacecraft satellites just did years program long think station lunar launch satellite time like shuttle orbit moon nasa space\n",
      "soc.religion.christian: sin just catholic eternal christianity know word think christ say does faith people christian christians believe bible jesus church god\n",
      "talk.politics.guns: children cooper federal make com batf nra say did gas know right fbi just think weapons don people guns gun\n",
      "talk.politics.mideast: retarded genocide american armenia jewish did turks peace nazi arab said war people arabs jews armenians turkish armenian israeli israel\n",
      "talk.politics.misc: bush evidence sexual believe think jobs make laws federal homosexual like know clinton government men president tax just don people\n",
      "talk.religion.misc: church man stephen argument world life wrong religious just quote context objective said christians did christian people jesus tyre god\n"
     ]
    }
   ],
   "source": [
    "show_topK(nb_clf, vectorizer, train_Xy.target_names, K=20) # keywords for each class by original NB classifier"
   ]
  },
  {
   "cell_type": "code",
   "execution_count": 22,
   "metadata": {
    "collapsed": false
   },
   "outputs": [
    {
     "name": "stdout",
     "output_type": "stream",
     "text": [
      "alt.atheism: said moral agree islam like argument does evidence atheists religion atheism just believe say morality don objective think people god\n",
      "comp.graphics: help format use software gif advance windows code ftp program know does 3d image file hi files looking thanks graphics\n",
      "comp.os.ms-windows.misc: memory pc program ax ftp using problem know version printer use files does card thanks drivers driver file dos windows\n",
      "comp.sys.ibm.pc.hardware: floppy like ram hard vlb does pc thanks use disk motherboard drives monitor isa ide controller bus card scsi drive\n",
      "comp.sys.mac.hardware: nubus just duo video centris use simms fpu lc does scsi quadra know problem card thanks monitor drive apple mac\n",
      "comp.windows.x: edu x11r5 sun code does display problem like application widget know using file program use windows motif server thanks window\n",
      "misc.forsale: best excellent edu mail 50 10 cd drive card price asking interested email condition new sell offer 00 shipping sale\n",
      "rec.autos: drive think price auto toyota oil tires miles honda know don dealer good ford new like engine just cars car\n",
      "rec.motorcycles: miles good harley right road shaft honda know don ve riding just like bmw helmet motorcycle ride bikes dod bike\n",
      "rec.sport.baseball: home just player alomar ball sox good win season players think braves hit runs baseball pitching games game team year\n",
      "rec.sport.hockey: toronto win playoffs espn good rangers think leafs detroit league year teams nhl season players games play hockey game team\n",
      "sci.crypt: crypto privacy des phone public just secure algorithm don security people escrow use nsa government keys chip clipper encryption key\n",
      "sci.electronics: input need chip ve just thanks don does good ground amp current output used know circuit voltage like use power\n",
      "sci.med: food doctor know soon disease don surrender intellect skepticism cadre banks dsl n3jxp chastity pitt shameful gordon geb msg edu\n",
      "sci.space: new people think satellite time know year don spacecraft data just lunar like earth shuttle moon launch orbit nasa space\n",
      "soc.religion.christian: question like christianity just don think know life does say believe faith christians christ christian people church bible jesus god\n",
      "talk.politics.guns: weapon make law crime did koresh firearms know like government batf right just weapons think don fbi guns people gun\n",
      "talk.politics.mideast: jewish right war arab did time government said turkish know think armenians don armenian like just jews israeli people israel\n",
      "talk.politics.misc: ve jobs taxes gay like homosexual health insurance did men make president clinton think tax know government just don people\n",
      "talk.religion.misc: jim life don bible christ salvation mormons does world tyre christians read people context order ye did rosicrucian god jesus\n"
     ]
    }
   ],
   "source": [
    "show_topK(em_nb_clf, vectorizer, train_Xy.target_names, K=20) # keywords for each class by semisupervised EM NB classifier"
   ]
  },
  {
   "cell_type": "code",
   "execution_count": null,
   "metadata": {
    "collapsed": true
   },
   "outputs": [],
   "source": []
  }
 ],
 "metadata": {
  "kernelspec": {
   "display_name": "Python 2",
   "language": "python",
   "name": "python2"
  },
  "language_info": {
   "codemirror_mode": {
    "name": "ipython",
    "version": 2
   },
   "file_extension": ".py",
   "mimetype": "text/x-python",
   "name": "python",
   "nbconvert_exporter": "python",
   "pygments_lexer": "ipython2",
   "version": "2.7.13"
  }
 },
 "nbformat": 4,
 "nbformat_minor": 0
}
