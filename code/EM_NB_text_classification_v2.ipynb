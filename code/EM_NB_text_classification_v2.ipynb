{
 "cells": [
  {
   "cell_type": "code",
   "execution_count": 1,
   "metadata": {
    "collapsed": false
   },
   "outputs": [],
   "source": [
    "# Import packages and libraries\n",
    "import numpy as np\n",
    "import random as rnd\n",
    "\n",
    "from sklearn.datasets import fetch_20newsgroups\n",
    "from sklearn.feature_extraction.text import TfidfVectorizer\n",
    "from sklearn.model_selection import train_test_split\n",
    "from sklearn.naive_bayes import MultinomialNB\n",
    "from sklearn import metrics\n",
    "from pprint import pprint\n",
    "\n",
    "from Semi_EM_NB import Semi_EM_MultinomialNB"
   ]
  },
  {
   "cell_type": "code",
   "execution_count": 2,
   "metadata": {
    "collapsed": true
   },
   "outputs": [],
   "source": [
    "# Load train and test data set with class labels \n",
    "train_Xy = fetch_20newsgroups(subset='train', remove=('headers', 'footers', 'quotes'))\n",
    "test_Xy = fetch_20newsgroups(subset='test', remove=('headers', 'footers', 'quotes'))"
   ]
  },
  {
   "cell_type": "code",
   "execution_count": 3,
   "metadata": {
    "collapsed": true
   },
   "outputs": [],
   "source": [
    "# Convert all text data into tf-idf vectors\n",
    "vectorizer = TfidfVectorizer()\n",
    "train_vec = vectorizer.fit_transform(train_Xy.data)\n",
    "test_vec = vectorizer.transform(test_Xy.data)"
   ]
  },
  {
   "cell_type": "code",
   "execution_count": 4,
   "metadata": {
    "collapsed": false
   },
   "outputs": [
    {
     "name": "stdout",
     "output_type": "stream",
     "text": [
      "(3394, 101631) (7920, 101631)\n"
     ]
    }
   ],
   "source": [
    "# Divide train data set into labeled and unlabeled data sets\n",
    "n_train_data = train_vec.shape[0]\n",
    "split_ratio = 0.3 # labeled vs unlabeled\n",
    "X_l, X_u, y_l, y_u = train_test_split(train_vec, train_Xy.target, train_size=split_ratio)\n",
    "print X_l.shape, X_u.shape"
   ]
  },
  {
   "cell_type": "code",
   "execution_count": null,
   "metadata": {
    "collapsed": false
   },
   "outputs": [],
   "source": []
  },
  {
   "cell_type": "code",
   "execution_count": 5,
   "metadata": {
    "collapsed": false
   },
   "outputs": [
    {
     "name": "stdout",
     "output_type": "stream",
     "text": [
      "-8839550.93803\n",
      "1\n",
      "-6470076.98986\n",
      "2\n",
      "-6469392.1663\n",
      "3\n",
      "-6469387.6444\n",
      "4\n",
      "-6469392.18267\n"
     ]
    },
    {
     "data": {
      "text/plain": [
       "<Semi_EM_NB.Semi_EM_MultinomialNB instance at 0x10a6a3e18>"
      ]
     },
     "execution_count": 5,
     "metadata": {},
     "output_type": "execute_result"
    }
   ],
   "source": [
    "# Train Naive Bayes classifier (imported) \n",
    "# using both labeled and unlabeled data set\n",
    "clf = Semi_EM_MultinomialNB(alpha=1e-8) # semi supervised EM based Naive Bayes classifier\n",
    "clf.fit(X_l, y_l, X_u)"
   ]
  },
  {
   "cell_type": "code",
   "execution_count": 6,
   "metadata": {
    "collapsed": false
   },
   "outputs": [
    {
     "name": "stdout",
     "output_type": "stream",
     "text": [
      "                          precision    recall  f1-score   support\n",
      "\n",
      "             alt.atheism       0.58      0.14      0.22       319\n",
      "           comp.graphics       0.58      0.41      0.48       389\n",
      " comp.os.ms-windows.misc       0.54      0.18      0.26       394\n",
      "comp.sys.ibm.pc.hardware       0.56      0.56      0.56       392\n",
      "   comp.sys.mac.hardware       0.59      0.51      0.55       385\n",
      "          comp.windows.x       0.52      0.77      0.62       395\n",
      "            misc.forsale       0.80      0.39      0.53       390\n",
      "               rec.autos       0.73      0.62      0.67       396\n",
      "         rec.motorcycles       0.80      0.42      0.55       398\n",
      "      rec.sport.baseball       0.93      0.65      0.76       397\n",
      "        rec.sport.hockey       0.84      0.84      0.84       399\n",
      "               sci.crypt       0.51      0.71      0.59       396\n",
      "         sci.electronics       0.73      0.32      0.44       393\n",
      "                 sci.med       0.67      0.70      0.68       396\n",
      "               sci.space       0.29      0.82      0.43       394\n",
      "  soc.religion.christian       0.40      0.87      0.55       398\n",
      "      talk.politics.guns       0.51      0.50      0.50       364\n",
      "   talk.politics.mideast       0.57      0.76      0.65       376\n",
      "      talk.politics.misc       0.37      0.37      0.37       310\n",
      "      talk.religion.misc       0.59      0.04      0.07       251\n",
      "\n",
      "             avg / total       0.61      0.54      0.53      7532\n",
      "\n"
     ]
    }
   ],
   "source": [
    "# Evaluate NB classifier using test data set\n",
    "pred = clf.predict(test_vec)\n",
    "print(metrics.classification_report(test_Xy.target, pred, target_names=test_Xy.target_names))"
   ]
  },
  {
   "cell_type": "code",
   "execution_count": 7,
   "metadata": {
    "collapsed": false
   },
   "outputs": [
    {
     "name": "stdout",
     "output_type": "stream",
     "text": [
      "array([[ 44,   1,   0,   0,   1,   2,   0,   0,   4,   2,   4,   8,   1,\n",
      "          6,  22, 167,   7,  25,  21,   4],\n",
      "       [  1, 158,  11,   9,  11,  92,   2,   3,   2,   1,   0,  20,   0,\n",
      "          6,  62,   8,   1,   0,   1,   1],\n",
      "       [  1,  35,  69,  65,  22,  97,   1,   2,   0,   0,   1,  31,   3,\n",
      "         10,  42,   8,   1,   1,   5,   0],\n",
      "       [  0,  14,  15, 221,  52,  20,  10,   2,   1,   0,   1,  16,  11,\n",
      "          1,  26,   0,   1,   0,   1,   0],\n",
      "       [  0,  13,   9,  34, 197,  22,   8,   4,   1,   0,   0,  12,   9,\n",
      "          9,  60,   4,   1,   1,   1,   0],\n",
      "       [  0,  23,   3,   7,   4, 305,   2,   0,   0,   0,   0,  15,   0,\n",
      "         10,  24,   0,   1,   1,   0,   0],\n",
      "       [  0,   7,   5,  36,  32,  13, 154,  17,   6,   2,   8,   3,   6,\n",
      "          5,  77,   4,   4,   6,   5,   0],\n",
      "       [  0,   1,   1,   0,   1,   2,   5, 246,  16,   1,   1,  12,   7,\n",
      "         10,  58,   9,   8,   5,  13,   0],\n",
      "       [  2,   3,   2,   0,   2,   1,   2,  43, 168,   1,   4,  11,   5,\n",
      "         14,  63,  20,  23,  18,  16,   0],\n",
      "       [  1,   1,   0,   1,   2,   2,   0,   1,   1, 257,  33,   8,   0,\n",
      "         10,  36,  18,   7,   6,  13,   0],\n",
      "       [  0,   0,   1,   0,   0,   1,   1,   0,   0,   5, 337,   8,   0,\n",
      "          2,  20,   5,   2,   9,   8,   0],\n",
      "       [  0,   2,   2,   0,   2,   5,   0,   0,   1,   1,   0, 281,   0,\n",
      "          7,  41,  13,  11,  16,  14,   0],\n",
      "       [  0,   5,   7,  20,   7,  19,   7,  11,   4,   0,   3,  58, 124,\n",
      "         18,  96,   4,   6,   3,   1,   0],\n",
      "       [  0,   3,   0,   0,   0,   1,   0,   4,   2,   1,   0,   4,   3,\n",
      "        278,  45,  30,   7,   7,  11,   0],\n",
      "       [  1,   4,   1,   1,   0,   3,   0,   5,   0,   1,   0,  10,   2,\n",
      "          5, 323,  10,   1,  12,  14,   1],\n",
      "       [  4,   0,   0,   0,   0,   1,   0,   0,   0,   1,   0,   1,   0,\n",
      "          2,  21, 348,   1,   5,  14,   0],\n",
      "       [  0,   0,   0,   1,   1,   1,   0,   0,   1,   1,   3,  27,   0,\n",
      "          8,  30,  34, 182,  43,  32,   0],\n",
      "       [  4,   0,   0,   0,   0,   0,   0,   0,   3,   1,   3,  11,   0,\n",
      "          1,   9,  38,   7, 286,  13,   0],\n",
      "       [  5,   0,   1,   0,   0,   1,   1,   0,   0,   1,   0,  10,   0,\n",
      "          8,  30,  29,  68,  39, 116,   1],\n",
      "       [ 13,   2,   0,   1,   0,   1,   0,   1,   1,   1,   1,  10,   0,\n",
      "          8,  20, 128,  20,  21,  13,  10]])\n"
     ]
    }
   ],
   "source": [
    "pprint(metrics.confusion_matrix(test_Xy.target, pred))"
   ]
  },
  {
   "cell_type": "code",
   "execution_count": 8,
   "metadata": {
    "collapsed": false
   },
   "outputs": [
    {
     "name": "stdout",
     "output_type": "stream",
     "text": [
      "0.54487519915\n"
     ]
    }
   ],
   "source": [
    "print(metrics.accuracy_score(test_Xy.target, pred))"
   ]
  },
  {
   "cell_type": "code",
   "execution_count": 9,
   "metadata": {
    "collapsed": false
   },
   "outputs": [
    {
     "data": {
      "text/plain": [
       "scipy.sparse.csr.csr_matrix"
      ]
     },
     "execution_count": 9,
     "metadata": {},
     "output_type": "execute_result"
    }
   ],
   "source": [
    "b_w_d = X_u>0\n",
    "type(b_w_d)"
   ]
  },
  {
   "cell_type": "code",
   "execution_count": 10,
   "metadata": {
    "collapsed": false
   },
   "outputs": [
    {
     "data": {
      "text/plain": [
       "<7920x7920 sparse matrix of type '<type 'numpy.bool_'>'\n",
       "\twith 57145955 stored elements in Compressed Sparse Row format>"
      ]
     },
     "execution_count": 10,
     "metadata": {},
     "output_type": "execute_result"
    }
   ],
   "source": [
    "b_w_d.dot(b_w_d.transpose())"
   ]
  },
  {
   "cell_type": "code",
   "execution_count": 11,
   "metadata": {
    "collapsed": false
   },
   "outputs": [
    {
     "data": {
      "text/plain": [
       "(6788,)"
      ]
     },
     "execution_count": 11,
     "metadata": {},
     "output_type": "execute_result"
    }
   ],
   "source": [
    "np.concatenate((y_l, y_l), axis=0).shape"
   ]
  },
  {
   "cell_type": "code",
   "execution_count": null,
   "metadata": {
    "collapsed": true
   },
   "outputs": [],
   "source": []
  }
 ],
 "metadata": {
  "kernelspec": {
   "display_name": "Python 2",
   "language": "python",
   "name": "python2"
  },
  "language_info": {
   "codemirror_mode": {
    "name": "ipython",
    "version": 2
   },
   "file_extension": ".py",
   "mimetype": "text/x-python",
   "name": "python",
   "nbconvert_exporter": "python",
   "pygments_lexer": "ipython2",
   "version": "2.7.13"
  }
 },
 "nbformat": 4,
 "nbformat_minor": 0
}
