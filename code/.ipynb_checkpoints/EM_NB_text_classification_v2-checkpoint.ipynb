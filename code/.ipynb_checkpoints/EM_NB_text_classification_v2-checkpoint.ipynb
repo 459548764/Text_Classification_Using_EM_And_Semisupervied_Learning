{
 "cells": [
  {
   "cell_type": "markdown",
   "metadata": {},
   "source": [
    "Update: use unlabeled sample to train classifier by EM algorithm."
   ]
  },
  {
   "cell_type": "code",
   "execution_count": 1,
   "metadata": {
    "collapsed": false
   },
   "outputs": [],
   "source": [
    "# Import packages and libraries\n",
    "import numpy as np\n",
    "import random as rnd\n",
    "\n",
    "from sklearn.datasets import fetch_20newsgroups\n",
    "from sklearn.feature_extraction.text import TfidfVectorizer\n",
    "from sklearn.model_selection import train_test_split, StratifiedShuffleSplit\n",
    "from sklearn.naive_bayes import MultinomialNB\n",
    "from sklearn import metrics\n",
    "from pprint import pprint\n",
    "\n",
    "from Semi_EM_NB import Semi_EM_MultinomialNB"
   ]
  },
  {
   "cell_type": "code",
   "execution_count": 2,
   "metadata": {
    "collapsed": true
   },
   "outputs": [],
   "source": [
    "# Load train and test data set with class labels \n",
    "train_Xy = fetch_20newsgroups(subset='train', remove=('headers', 'footers', 'quotes'))\n",
    "test_Xy = fetch_20newsgroups(subset='test', remove=('headers', 'footers', 'quotes'))"
   ]
  },
  {
   "cell_type": "code",
   "execution_count": 3,
   "metadata": {
    "collapsed": false
   },
   "outputs": [
    {
     "name": "stdout",
     "output_type": "stream",
     "text": [
      "(11314, 26747) (7532, 26747)\n"
     ]
    }
   ],
   "source": [
    "# Convert all text data into tf-idf vectors \n",
    "vectorizer = TfidfVectorizer(stop_words='english', min_df=3, max_df=0.9)\n",
    "train_vec = vectorizer.fit_transform(train_Xy.data)\n",
    "test_vec = vectorizer.transform(test_Xy.data)\n",
    "print train_vec.shape, test_vec.shape"
   ]
  },
  {
   "cell_type": "code",
   "execution_count": 4,
   "metadata": {
    "collapsed": false
   },
   "outputs": [
    {
     "name": "stdout",
     "output_type": "stream",
     "text": [
      "(2262, 26747) (9052, 26747)\n"
     ]
    }
   ],
   "source": [
    "# Divide train data set into labeled and unlabeled data sets\n",
    "n_train_data = train_vec.shape[0]\n",
    "split_ratio = 0.2 # labeled vs unlabeled\n",
    "X_l, X_u, y_l, y_u = train_test_split(train_vec, train_Xy.target, train_size=split_ratio, stratify=train_Xy.target)\n",
    "print X_l.shape, X_u.shape"
   ]
  },
  {
   "cell_type": "code",
   "execution_count": 5,
   "metadata": {
    "collapsed": false
   },
   "outputs": [
    {
     "data": {
      "text/plain": [
       "MultinomialNB(alpha=1e-08, class_prior=None, fit_prior=True)"
      ]
     },
     "execution_count": 5,
     "metadata": {},
     "output_type": "execute_result"
    }
   ],
   "source": [
    "# Train Naive Bayes classifier (imported) \n",
    "# using labeled data set only\n",
    "nb_clf = MultinomialNB(alpha=1e-8)\n",
    "nb_clf.fit(X_l, y_l)"
   ]
  },
  {
   "cell_type": "code",
   "execution_count": 6,
   "metadata": {
    "collapsed": false
   },
   "outputs": [
    {
     "name": "stdout",
     "output_type": "stream",
     "text": [
      "Initial expected log likelihood = -6698867.611\n",
      "\n",
      "EM iteration #1\n",
      "\tExpected log likelihood = -4481121.514\n",
      "EM iteration #2\n",
      "\tExpected log likelihood = -4480017.280\n",
      "EM iteration #3\n",
      "\tExpected log likelihood = -4479941.228\n",
      "EM iteration #4\n",
      "\tExpected log likelihood = -4479930.903\n",
      "EM iteration #5\n",
      "\tExpected log likelihood = -4479930.903\n"
     ]
    },
    {
     "data": {
      "text/plain": [
       "<Semi_EM_NB.Semi_EM_MultinomialNB instance at 0x107d71908>"
      ]
     },
     "execution_count": 6,
     "metadata": {},
     "output_type": "execute_result"
    }
   ],
   "source": [
    "# Train Naive Bayes classifier (imported) \n",
    "# using both labeled and unlabeled data set\n",
    "em_nb_clf = Semi_EM_MultinomialNB(alpha=1e-8) # semi supervised EM based Naive Bayes classifier\n",
    "em_nb_clf.fit(X_l, y_l, X_u)\n",
    "# em_nb_clf.fit_with_clustering(X_l, y_l, X_u)"
   ]
  },
  {
   "cell_type": "code",
   "execution_count": 7,
   "metadata": {
    "collapsed": false
   },
   "outputs": [
    {
     "name": "stdout",
     "output_type": "stream",
     "text": [
      "                          precision    recall  f1-score   support\n",
      "\n",
      "             alt.atheism       0.45      0.46      0.45       319\n",
      "           comp.graphics       0.44      0.59      0.50       389\n",
      " comp.os.ms-windows.misc       0.50      0.27      0.35       394\n",
      "comp.sys.ibm.pc.hardware       0.65      0.36      0.46       392\n",
      "   comp.sys.mac.hardware       0.49      0.52      0.51       385\n",
      "          comp.windows.x       0.70      0.59      0.64       395\n",
      "            misc.forsale       0.72      0.49      0.59       390\n",
      "               rec.autos       0.73      0.39      0.50       396\n",
      "         rec.motorcycles       0.62      0.48      0.54       398\n",
      "      rec.sport.baseball       0.87      0.60      0.71       397\n",
      "        rec.sport.hockey       0.54      0.76      0.63       399\n",
      "               sci.crypt       0.40      0.71      0.51       396\n",
      "         sci.electronics       0.44      0.49      0.46       393\n",
      "                 sci.med       0.57      0.63      0.60       396\n",
      "               sci.space       0.59      0.59      0.59       394\n",
      "  soc.religion.christian       0.56      0.72      0.63       398\n",
      "      talk.politics.guns       0.49      0.48      0.48       364\n",
      "   talk.politics.mideast       0.41      0.76      0.53       376\n",
      "      talk.politics.misc       0.38      0.35      0.37       310\n",
      "      talk.religion.misc       0.33      0.09      0.14       251\n",
      "\n",
      "             avg / total       0.55      0.53      0.52      7532\n",
      "\n",
      "0.526818906001\n"
     ]
    }
   ],
   "source": [
    "# Evaluate original NB classifier using test data set\n",
    "pred = nb_clf.predict(test_vec)\n",
    "print(metrics.classification_report(test_Xy.target, pred, target_names=test_Xy.target_names))\n",
    "# pprint(metrics.confusion_matrix(test_Xy.target, pred))\n",
    "print(metrics.accuracy_score(test_Xy.target, pred))"
   ]
  },
  {
   "cell_type": "code",
   "execution_count": 8,
   "metadata": {
    "collapsed": false
   },
   "outputs": [
    {
     "name": "stdout",
     "output_type": "stream",
     "text": [
      "                          precision    recall  f1-score   support\n",
      "\n",
      "             alt.atheism       0.54      0.29      0.37       319\n",
      "           comp.graphics       0.42      0.62      0.50       389\n",
      " comp.os.ms-windows.misc       0.54      0.15      0.24       394\n",
      "comp.sys.ibm.pc.hardware       0.61      0.33      0.43       392\n",
      "   comp.sys.mac.hardware       0.49      0.47      0.48       385\n",
      "          comp.windows.x       0.71      0.63      0.66       395\n",
      "            misc.forsale       0.73      0.41      0.52       390\n",
      "               rec.autos       0.77      0.43      0.56       396\n",
      "         rec.motorcycles       0.69      0.33      0.45       398\n",
      "      rec.sport.baseball       0.95      0.58      0.72       397\n",
      "        rec.sport.hockey       0.88      0.78      0.83       399\n",
      "               sci.crypt       0.33      0.76      0.46       396\n",
      "         sci.electronics       0.45      0.44      0.44       393\n",
      "                 sci.med       0.68      0.66      0.67       396\n",
      "               sci.space       0.55      0.66      0.60       394\n",
      "  soc.religion.christian       0.53      0.74      0.62       398\n",
      "      talk.politics.guns       0.51      0.26      0.34       364\n",
      "   talk.politics.mideast       0.23      0.89      0.37       376\n",
      "      talk.politics.misc       0.46      0.26      0.33       310\n",
      "      talk.religion.misc       0.50      0.01      0.02       251\n",
      "\n",
      "             avg / total       0.58      0.50      0.49      7532\n",
      "\n",
      "0.499203398832\n"
     ]
    }
   ],
   "source": [
    "# Evaluate semi-supervised EM NB classifier using test data set\n",
    "pred = em_nb_clf.predict(test_vec)\n",
    "print(metrics.classification_report(test_Xy.target, pred, target_names=test_Xy.target_names))\n",
    "# pprint(metrics.confusion_matrix(test_Xy.target, pred))\n",
    "print(metrics.accuracy_score(test_Xy.target, pred))"
   ]
  },
  {
   "cell_type": "code",
   "execution_count": 9,
   "metadata": {
    "collapsed": false
   },
   "outputs": [],
   "source": [
    "# find the most informative features \n",
    "import numpy as np\n",
    "def show_topK(classifier, vectorizer, categories, K=10):\n",
    "    feature_names = np.asarray(vectorizer.get_feature_names())\n",
    "    for i, category in enumerate(categories):\n",
    "        topK = np.argsort(classifier.coef_[i])[-K:]\n",
    "        print(\"%s: %s\" % (category, \" \".join(feature_names[topK])))"
   ]
  },
  {
   "cell_type": "code",
   "execution_count": 10,
   "metadata": {
    "collapsed": false
   },
   "outputs": [
    {
     "name": "stdout",
     "output_type": "stream",
     "text": [
      "alt.atheism: islam islamic just atheists say don atheism people religion god\n",
      "comp.graphics: software vesa images 3d files thanks program file graphics image\n",
      "comp.os.ms-windows.misc: use drivers problem card files driver ax file dos windows\n",
      "comp.sys.ibm.pc.hardware: 486 vlb thanks board drive card controller port ide scsi\n",
      "comp.sys.mac.hardware: simms fpu vram thanks monitor does drive problem apple mac\n",
      "comp.windows.x: thanks color windows use application program motif widget window server\n",
      "misc.forsale: new interested best brand condition asking shipping offer 00 sale\n",
      "rec.autos: highway engine thanks dealer new right like make cars car\n",
      "rec.motorcycles: make motorcycle dog just like helmet ride bikes dod bike\n",
      "rec.sport.baseball: braves players think time cubs game team baseball year pitching\n",
      "rec.sport.hockey: chicago nhl season games play detroit leafs team game hockey\n",
      "sci.crypt: algorithm des crypto nsa government keys clipper encryption chip key\n",
      "sci.electronics: want chip know circuit amp work help radio power use\n",
      "sci.med: dsl intellect chastity n3jxp pitt skepticism geb banks gordon doctor\n",
      "sci.space: just software earth orbit billion sci lunar nasa moon space\n",
      "soc.religion.christian: say people christ faith christianity church believe christian jesus god\n",
      "talk.politics.guns: nra batf did fbi don weapons right people guns gun\n",
      "talk.politics.mideast: greek arab said armenian people armenians jews turkish israeli israel\n",
      "talk.politics.misc: health insurance russia drugs jobs president people clinton tax government\n",
      "talk.religion.misc: commandment jesus science think people objective christ god values christian\n"
     ]
    }
   ],
   "source": [
    "show_topK(nb_clf, vectorizer, train_Xy.target_names, K=10) # keywords for each class by original NB classifier"
   ]
  },
  {
   "cell_type": "code",
   "execution_count": 11,
   "metadata": {
    "collapsed": false
   },
   "outputs": [
    {
     "name": "stdout",
     "output_type": "stream",
     "text": [
      "alt.atheism: atheism just believe morality say think objective don people god\n",
      "comp.graphics: looking hi know image program files file thanks windows graphics\n",
      "comp.os.ms-windows.misc: ftp driver card ax thanks drivers files file dos windows\n",
      "comp.sys.ibm.pc.hardware: dos windows drives thanks ide controller bus card scsi drive\n",
      "comp.sys.mac.hardware: know problem monitor does scsi thanks card apple drive mac\n",
      "comp.windows.x: xterm x11r5 application thanks program widget use motif server window\n",
      "misc.forsale: drive email new sell asking condition offer shipping 00 sale\n",
      "rec.autos: honda know new dealer just ford like engine cars car\n",
      "rec.motorcycles: good know riding like just motorcycle ride bikes dod bike\n",
      "rec.sport.baseball: players hit braves runs games pitching baseball game team year\n",
      "rec.sport.hockey: year league nhl season play games players hockey team game\n",
      "sci.crypt: don just use people keys government chip clipper encryption key\n",
      "sci.electronics: just used does output know voltage circuit like use power\n",
      "sci.med: skepticism cadre banks dsl n3jxp chastity gordon geb pitt msg\n",
      "sci.space: just like shuttle lunar earth launch orbit moon nasa space\n",
      "soc.religion.christian: say life christians christian christ church people bible jesus god\n",
      "talk.politics.guns: firearms just batf like weapons fbi don people guns gun\n",
      "talk.politics.mideast: arab did turkish just armenians armenian jews israeli people israel\n",
      "talk.politics.misc: know money president clinton don think just tax government people\n",
      "talk.religion.misc: rosicrucian jesus cheers think christian values god christians bible kent\n"
     ]
    }
   ],
   "source": [
    "show_topK(em_nb_clf, vectorizer, train_Xy.target_names, K=10) # keywords for each class by semisupervised EM NB classifier"
   ]
  },
  {
   "cell_type": "code",
   "execution_count": 12,
   "metadata": {
    "collapsed": false
   },
   "outputs": [
    {
     "name": "stdout",
     "output_type": "stream",
     "text": [
      "[-3.15965647 -2.96183072 -2.95332003 -2.95332003 -2.97041447 -2.94488116\n",
      " -2.96183072 -2.94488116 -2.94488116 -2.94488116 -2.93651291 -2.94488116\n",
      " -2.95332003 -2.94488116 -2.95332003 -2.93651291 -3.03265677 -2.99661684\n",
      " -3.19140516 -3.40651654] [-3.1231961  -2.81317505 -3.28406272 -3.23123758 -2.9056909  -2.97422231\n",
      " -3.19823128 -3.32744302 -3.21349876 -3.16627969 -3.07230449 -2.5225518\n",
      " -2.89125601 -2.87702652 -3.00585939 -2.81170338 -3.13126066 -2.26647633\n",
      " -3.12119008 -4.22180839]\n"
     ]
    }
   ],
   "source": [
    "print nb_clf.class_log_prior_, em_nb_clf.clf.class_log_prior_"
   ]
  },
  {
   "cell_type": "code",
   "execution_count": null,
   "metadata": {
    "collapsed": true
   },
   "outputs": [],
   "source": []
  }
 ],
 "metadata": {
  "kernelspec": {
   "display_name": "Python 2",
   "language": "python",
   "name": "python2"
  },
  "language_info": {
   "codemirror_mode": {
    "name": "ipython",
    "version": 2
   },
   "file_extension": ".py",
   "mimetype": "text/x-python",
   "name": "python",
   "nbconvert_exporter": "python",
   "pygments_lexer": "ipython2",
   "version": "2.7.13"
  }
 },
 "nbformat": 4,
 "nbformat_minor": 0
}
