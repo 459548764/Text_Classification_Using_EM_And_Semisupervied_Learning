{
 "cells": [
  {
   "cell_type": "markdown",
   "metadata": {},
   "source": [
    "Update: use unlabeled sample to train classifier by EM algorithm."
   ]
  },
  {
   "cell_type": "code",
   "execution_count": 1,
   "metadata": {
    "collapsed": false
   },
   "outputs": [],
   "source": [
    "# Import packages and libraries\n",
    "import numpy as np\n",
    "import random as rnd\n",
    "import nltk as nk\n",
    "\n",
    "from sklearn.datasets import fetch_20newsgroups\n",
    "from sklearn.feature_extraction.text import TfidfVectorizer\n",
    "from sklearn.model_selection import train_test_split, StratifiedShuffleSplit\n",
    "from sklearn.naive_bayes import MultinomialNB\n",
    "from sklearn import metrics\n",
    "from pprint import pprint\n",
    "\n",
    "from Semi_EM_NB import Semi_EM_MultinomialNB"
   ]
  },
  {
   "cell_type": "code",
   "execution_count": 2,
   "metadata": {
    "collapsed": true
   },
   "outputs": [],
   "source": [
    "# Load train and test data set with class labels \n",
    "train_Xy = fetch_20newsgroups(subset='train', remove=('headers', 'footers', 'quotes'))\n",
    "test_Xy = fetch_20newsgroups(subset='test', remove=('headers', 'footers', 'quotes'))"
   ]
  },
  {
   "cell_type": "code",
   "execution_count": 3,
   "metadata": {
    "collapsed": false
   },
   "outputs": [
    {
     "name": "stdout",
     "output_type": "stream",
     "text": [
      "(11314, 26747) (7532, 26747)\n"
     ]
    }
   ],
   "source": [
    "# Convert all text data into tf-idf vectors \n",
    "vectorizer = TfidfVectorizer(stop_words='english', min_df=3, max_df=0.9)\n",
    "# vectorizer = TfidfVectorizer()\n",
    "train_vec = vectorizer.fit_transform(train_Xy.data)\n",
    "test_vec = vectorizer.transform(test_Xy.data)\n",
    "print train_vec.shape, test_vec.shape"
   ]
  },
  {
   "cell_type": "code",
   "execution_count": 4,
   "metadata": {
    "collapsed": false
   },
   "outputs": [
    {
     "name": "stdout",
     "output_type": "stream",
     "text": [
      "(5657, 26747) (5657, 26747)\n"
     ]
    }
   ],
   "source": [
    "# Divide train data set into labeled and unlabeled data sets\n",
    "n_train_data = train_vec.shape[0]\n",
    "split_ratio = 0.5 # labeled vs unlabeled\n",
    "X_l, X_u, y_l, y_u = train_test_split(train_vec, train_Xy.target, train_size=split_ratio, stratify=train_Xy.target)\n",
    "print X_l.shape, X_u.shape"
   ]
  },
  {
   "cell_type": "code",
   "execution_count": 5,
   "metadata": {
    "collapsed": false
   },
   "outputs": [
    {
     "data": {
      "text/plain": [
       "MultinomialNB(alpha=1, class_prior=None, fit_prior=True)"
      ]
     },
     "execution_count": 5,
     "metadata": {},
     "output_type": "execute_result"
    }
   ],
   "source": [
    "# Train Naive Bayes classifier (imported) \n",
    "# using labeled data set only\n",
    "nb_clf = MultinomialNB(alpha=1)\n",
    "nb_clf.fit(X_l, y_l)"
   ]
  },
  {
   "cell_type": "code",
   "execution_count": 6,
   "metadata": {
    "collapsed": false
   },
   "outputs": [
    {
     "name": "stdout",
     "output_type": "stream",
     "text": [
      "Initial expected log likelihood = -3800070.806\n",
      "\n",
      "EM iteration #1\n",
      "\tExpected log likelihood = -2935788.693\n",
      "EM iteration #2\n",
      "\tExpected log likelihood = -2935604.028\n",
      "EM iteration #3\n",
      "\tExpected log likelihood = -2935569.932\n",
      "EM iteration #4\n",
      "\tExpected log likelihood = -2935569.932\n",
      "EM iteration #5\n",
      "\tExpected log likelihood = -2935569.932\n",
      "EM iteration #6\n",
      "\tExpected log likelihood = -2935569.932\n",
      "EM iteration #7\n",
      "\tExpected log likelihood = -2935569.932\n",
      "EM iteration #8\n",
      "\tExpected log likelihood = -2935569.932\n",
      "EM iteration #9\n",
      "\tExpected log likelihood = -2935569.932\n",
      "EM iteration #10\n",
      "\tExpected log likelihood = -2935569.932\n"
     ]
    },
    {
     "data": {
      "text/plain": [
       "<Semi_EM_NB.Semi_EM_MultinomialNB instance at 0x11026e998>"
      ]
     },
     "execution_count": 6,
     "metadata": {},
     "output_type": "execute_result"
    }
   ],
   "source": [
    "# Train Naive Bayes classifier (imported) \n",
    "# using both labeled and unlabeled data set\n",
    "em_nb_clf = Semi_EM_MultinomialNB(alpha=1e-8, max_iter=30) # semi supervised EM based Naive Bayes classifier\n",
    "# em_nb_clf.fit(X_l, y_l, X_u)\n",
    "em_nb_clf.fit_x(X_l, y_l, X_u)\n",
    "# em_nb_clf.fit_with_clustering(X_l, y_l, X_u)\n",
    "# em_nb_clf.partial_fit(X_l, y_l, X_u)"
   ]
  },
  {
   "cell_type": "code",
   "execution_count": 7,
   "metadata": {
    "collapsed": false
   },
   "outputs": [
    {
     "name": "stdout",
     "output_type": "stream",
     "text": [
      "                          precision    recall  f1-score   support\n",
      "\n",
      "             alt.atheism       0.76      0.21      0.33       319\n",
      "           comp.graphics       0.61      0.68      0.64       389\n",
      " comp.os.ms-windows.misc       0.66      0.60      0.63       394\n",
      "comp.sys.ibm.pc.hardware       0.57      0.74      0.64       392\n",
      "   comp.sys.mac.hardware       0.73      0.65      0.69       385\n",
      "          comp.windows.x       0.74      0.73      0.73       395\n",
      "            misc.forsale       0.76      0.74      0.75       390\n",
      "               rec.autos       0.77      0.70      0.73       396\n",
      "         rec.motorcycles       0.84      0.67      0.75       398\n",
      "      rec.sport.baseball       0.88      0.79      0.83       397\n",
      "        rec.sport.hockey       0.57      0.91      0.70       399\n",
      "               sci.crypt       0.64      0.77      0.70       396\n",
      "         sci.electronics       0.70      0.47      0.56       393\n",
      "                 sci.med       0.82      0.71      0.76       396\n",
      "               sci.space       0.76      0.75      0.76       394\n",
      "  soc.religion.christian       0.36      0.93      0.52       398\n",
      "      talk.politics.guns       0.58      0.67      0.62       364\n",
      "   talk.politics.mideast       0.79      0.76      0.78       376\n",
      "      talk.politics.misc       0.91      0.21      0.34       310\n",
      "      talk.religion.misc       1.00      0.01      0.02       251\n",
      "\n",
      "             avg / total       0.72      0.66      0.64      7532\n",
      "\n",
      "0.656001062135\n"
     ]
    }
   ],
   "source": [
    "# Evaluate original NB classifier using test data set\n",
    "pred = nb_clf.predict(test_vec)\n",
    "print(metrics.classification_report(test_Xy.target, pred, target_names=test_Xy.target_names))\n",
    "# pprint(metrics.confusion_matrix(test_Xy.target, pred))\n",
    "print(metrics.accuracy_score(test_Xy.target, pred))"
   ]
  },
  {
   "cell_type": "code",
   "execution_count": 8,
   "metadata": {
    "collapsed": false
   },
   "outputs": [
    {
     "name": "stdout",
     "output_type": "stream",
     "text": [
      "                          precision    recall  f1-score   support\n",
      "\n",
      "             alt.atheism       0.62      0.19      0.29       319\n",
      "           comp.graphics       0.52      0.60      0.56       389\n",
      " comp.os.ms-windows.misc       0.60      0.29      0.40       394\n",
      "comp.sys.ibm.pc.hardware       0.48      0.67      0.56       392\n",
      "   comp.sys.mac.hardware       0.73      0.41      0.52       385\n",
      "          comp.windows.x       0.63      0.71      0.67       395\n",
      "            misc.forsale       0.76      0.51      0.61       390\n",
      "               rec.autos       0.71      0.57      0.63       396\n",
      "         rec.motorcycles       0.72      0.49      0.59       398\n",
      "      rec.sport.baseball       0.95      0.69      0.80       397\n",
      "        rec.sport.hockey       0.54      0.89      0.67       399\n",
      "               sci.crypt       0.55      0.71      0.62       396\n",
      "         sci.electronics       0.62      0.39      0.48       393\n",
      "                 sci.med       0.74      0.69      0.72       396\n",
      "               sci.space       0.50      0.75      0.60       394\n",
      "  soc.religion.christian       0.42      0.87      0.57       398\n",
      "      talk.politics.guns       0.52      0.53      0.53       364\n",
      "   talk.politics.mideast       0.44      0.81      0.58       376\n",
      "      talk.politics.misc       0.58      0.27      0.37       310\n",
      "      talk.religion.misc       0.37      0.03      0.05       251\n",
      "\n",
      "             avg / total       0.61      0.57      0.55      7532\n",
      "\n",
      "0.571694105151\n"
     ]
    }
   ],
   "source": [
    "# Evaluate semi-supervised EM NB classifier using test data set\n",
    "pred = em_nb_clf.predict(test_vec)\n",
    "print(metrics.classification_report(test_Xy.target, pred, target_names=test_Xy.target_names))\n",
    "# pprint(metrics.confusion_matrix(test_Xy.target, pred))\n",
    "print(metrics.accuracy_score(test_Xy.target, pred))"
   ]
  },
  {
   "cell_type": "code",
   "execution_count": 9,
   "metadata": {
    "collapsed": false
   },
   "outputs": [],
   "source": [
    "# find the most informative features \n",
    "import numpy as np\n",
    "def show_topK(classifier, vectorizer, categories, K=10):\n",
    "    feature_names = np.asarray(vectorizer.get_feature_names())\n",
    "    for i, category in enumerate(categories):\n",
    "        topK = np.argsort(classifier.coef_[i])[-K:]\n",
    "        print(\"%s: %s\" % (category, \" \".join(feature_names[topK])))"
   ]
  },
  {
   "cell_type": "code",
   "execution_count": 10,
   "metadata": {
    "collapsed": false
   },
   "outputs": [
    {
     "name": "stdout",
     "output_type": "stream",
     "text": [
      "alt.atheism: does atheism islam atheists religion say think don people god\n",
      "comp.graphics: code does know program looking file thanks image files graphics\n",
      "comp.os.ms-windows.misc: using cica problem thanks driver use files dos file windows\n",
      "comp.sys.ibm.pc.hardware: does pc disk monitor ide controller bus scsi card drive\n",
      "comp.sys.mac.hardware: use lc quadra monitor thanks know does drive apple mac\n",
      "comp.windows.x: program windows thanks application x11r5 xterm widget motif server window\n",
      "misc.forsale: asking interested email sell new condition offer shipping 00 sale\n",
      "rec.autos: good know new dealer engine ford like just cars car\n",
      "rec.motorcycles: dog bmw riding motorcycle just like bikes ride dod bike\n",
      "rec.sport.baseball: pitching braves players hit games runs game team baseball year\n",
      "rec.sport.hockey: league play teams season games players nhl game team hockey\n",
      "sci.crypt: escrow crypto use nsa government keys chip clipper encryption key\n",
      "sci.electronics: phone current want don know circuit use does power like\n",
      "sci.med: intellect cadre dsl banks chastity n3jxp gordon pitt geb msg\n",
      "sci.space: think just like lunar shuttle launch moon orbit nasa space\n",
      "soc.religion.christian: love christian believe bible people christians christ church jesus god\n",
      "talk.politics.guns: just weapon crime don law firearms people weapons guns gun\n",
      "talk.politics.mideast: said turkey arab people turkish jews armenians armenian israeli israel\n",
      "talk.politics.misc: president did trial clinton just don think government tax people\n",
      "talk.religion.misc: think christians koresh don bible jesus people objective christian god\n"
     ]
    }
   ],
   "source": [
    "show_topK(nb_clf, vectorizer, train_Xy.target_names, K=10) # keywords for each class by original NB classifier"
   ]
  },
  {
   "cell_type": "code",
   "execution_count": 11,
   "metadata": {
    "collapsed": false
   },
   "outputs": [
    {
     "name": "stdout",
     "output_type": "stream",
     "text": [
      "alt.atheism: atheists morality religion just say atheism think don people god\n",
      "comp.graphics: windows does format know looking file files image thanks graphics\n",
      "comp.os.ms-windows.misc: ax program drivers use thanks driver files dos file windows\n",
      "comp.sys.ibm.pc.hardware: monitor pc thanks disk ide controller bus scsi card drive\n",
      "comp.sys.mac.hardware: use does simms know problem quadra thanks drive apple mac\n",
      "comp.windows.x: using application program use widget thanks windows motif server window\n",
      "misc.forsale: price asking sell new email condition offer 00 shipping sale\n",
      "rec.autos: don good ford new dealer like engine just cars car\n",
      "rec.motorcycles: riding don helmet motorcycle just like ride bikes dod bike\n",
      "rec.sport.baseball: players braves hit pitching runs games game baseball team year\n",
      "rec.sport.hockey: teams year nhl season players games play hockey team game\n",
      "sci.crypt: people escrow use nsa keys government chip clipper encryption key\n",
      "sci.electronics: good ground used does know voltage use like circuit power\n",
      "sci.med: intellect shameful cadre dsl n3jxp chastity pitt gordon geb msg\n",
      "sci.space: lunar just earth shuttle like launch moon orbit nasa space\n",
      "soc.religion.christian: believe faith christians christ christian bible church people jesus god\n",
      "talk.politics.guns: government just firearms law don fbi weapons people guns gun\n",
      "talk.politics.mideast: just war arab turkish armenians armenian jews people israeli israel\n",
      "talk.politics.misc: gay president know clinton think tax just don government people\n",
      "talk.religion.misc: koresh know bible don christians people objective christian jesus god\n"
     ]
    }
   ],
   "source": [
    "show_topK(em_nb_clf, vectorizer, train_Xy.target_names, K=10) # keywords for each class by semisupervised EM NB classifier"
   ]
  },
  {
   "cell_type": "code",
   "execution_count": 12,
   "metadata": {
    "collapsed": false
   },
   "outputs": [
    {
     "name": "stdout",
     "output_type": "stream",
     "text": [
      "[-3.16001007 -2.96389519 -2.95028954 -2.95367364 -2.97422231 -2.94691686\n",
      " -2.96389519 -2.94691686 -2.94020542 -2.94355551 -2.93686652 -2.94355551\n",
      " -2.95367364 -2.94691686 -2.94691686 -2.93686652 -3.0311772  -2.99874192\n",
      " -3.19391162 -3.40420703] [-3.35238196 -2.98815982 -3.06659563 -2.88174722 -3.06659563 -2.87859761\n",
      " -3.05340034 -3.02024813 -3.02934737 -3.05715269 -2.67450226 -2.82205085\n",
      " -3.08382093 -2.93520124 -2.85528653 -2.73528715 -3.06469989 -2.82651846\n",
      " -3.29831474 -3.67780437]\n"
     ]
    }
   ],
   "source": [
    "print nb_clf.class_log_prior_, em_nb_clf.clf.class_log_prior_"
   ]
  },
  {
   "cell_type": "code",
   "execution_count": null,
   "metadata": {
    "collapsed": true
   },
   "outputs": [],
   "source": []
  }
 ],
 "metadata": {
  "kernelspec": {
   "display_name": "Python 2",
   "language": "python",
   "name": "python2"
  },
  "language_info": {
   "codemirror_mode": {
    "name": "ipython",
    "version": 2
   },
   "file_extension": ".py",
   "mimetype": "text/x-python",
   "name": "python",
   "nbconvert_exporter": "python",
   "pygments_lexer": "ipython2",
   "version": "2.7.13"
  }
 },
 "nbformat": 4,
 "nbformat_minor": 0
}
