{
 "cells": [
  {
   "cell_type": "code",
   "execution_count": 1,
   "metadata": {
    "collapsed": true
   },
   "outputs": [],
   "source": [
    "# Import packages and libraries\n",
    "import numpy as np\n",
    "import random as rnd\n",
    "\n",
    "from scipy.sparse import csr_matrix\n",
    "from sklearn.datasets import fetch_20newsgroups\n",
    "from sklearn.feature_extraction.text import TfidfVectorizer\n",
    "from sklearn.model_selection import train_test_split\n",
    "from sklearn.naive_bayes import MultinomialNB\n",
    "from sklearn import metrics\n",
    "from pprint import pprint"
   ]
  },
  {
   "cell_type": "code",
   "execution_count": 2,
   "metadata": {
    "collapsed": true
   },
   "outputs": [],
   "source": [
    "# Load train and test data set with class labels \n",
    "train_Xy = fetch_20newsgroups(subset='train', remove=('headers', 'footers', 'quotes'))\n",
    "test_Xy = fetch_20newsgroups(subset='test', remove=('headers', 'footers', 'quotes'))"
   ]
  },
  {
   "cell_type": "code",
   "execution_count": 3,
   "metadata": {
    "collapsed": true
   },
   "outputs": [],
   "source": [
    "# Convert all text data into tf-idf vectors\n",
    "vectorizer = TfidfVectorizer(stop_words='english', min_df=3, max_df=0.9)\n",
    "train_vec = vectorizer.fit_transform(train_Xy.data)\n",
    "test_vec = vectorizer.transform(test_Xy.data)"
   ]
  },
  {
   "cell_type": "code",
   "execution_count": 4,
   "metadata": {
    "collapsed": false
   },
   "outputs": [
    {
     "name": "stdout",
     "output_type": "stream",
     "text": [
      "(2262, 26747) (9052, 26747)\n"
     ]
    }
   ],
   "source": [
    "# Divide train data set into labeled and unlabeled data sets\n",
    "n_train_data = train_vec.shape[0]\n",
    "split_ratio = 0.2 # labeled vs unlabeled\n",
    "X_l, X_u, y_l, y_u = train_test_split(train_vec, train_Xy.target, train_size=split_ratio)\n",
    "print X_l.shape, X_u.shape"
   ]
  },
  {
   "cell_type": "code",
   "execution_count": 5,
   "metadata": {
    "collapsed": false
   },
   "outputs": [
    {
     "data": {
      "text/plain": [
       "MultinomialNB(alpha=1e-08, class_prior=None, fit_prior=True)"
      ]
     },
     "execution_count": 5,
     "metadata": {},
     "output_type": "execute_result"
    }
   ],
   "source": [
    "# Train Naive Bayes classifier (imported) \n",
    "# using both labeled and unlabeled data set\n",
    "clf = MultinomialNB(alpha=1e-8)\n",
    "clf.fit(X_l, y_l)\n",
    "# clf.fit(train_vec, train_Xy.target)"
   ]
  },
  {
   "cell_type": "code",
   "execution_count": 6,
   "metadata": {
    "collapsed": false
   },
   "outputs": [
    {
     "name": "stdout",
     "output_type": "stream",
     "text": [
      "                          precision    recall  f1-score   support\n",
      "\n",
      "             alt.atheism       0.45      0.31      0.37       319\n",
      "           comp.graphics       0.61      0.29      0.39       389\n",
      " comp.os.ms-windows.misc       0.53      0.30      0.39       394\n",
      "comp.sys.ibm.pc.hardware       0.54      0.51      0.53       392\n",
      "   comp.sys.mac.hardware       0.65      0.36      0.46       385\n",
      "          comp.windows.x       0.43      0.77      0.56       395\n",
      "            misc.forsale       0.73      0.51      0.60       390\n",
      "               rec.autos       0.43      0.70      0.53       396\n",
      "         rec.motorcycles       0.78      0.33      0.46       398\n",
      "      rec.sport.baseball       0.85      0.62      0.71       397\n",
      "        rec.sport.hockey       0.85      0.83      0.84       399\n",
      "               sci.crypt       0.39      0.72      0.50       396\n",
      "         sci.electronics       0.40      0.43      0.42       393\n",
      "                 sci.med       0.62      0.64      0.63       396\n",
      "               sci.space       0.58      0.64      0.61       394\n",
      "  soc.religion.christian       0.59      0.69      0.63       398\n",
      "      talk.politics.guns       0.51      0.48      0.49       364\n",
      "   talk.politics.mideast       0.46      0.82      0.59       376\n",
      "      talk.politics.misc       0.42      0.29      0.34       310\n",
      "      talk.religion.misc       0.30      0.18      0.22       251\n",
      "\n",
      "             avg / total       0.56      0.53      0.52      7532\n",
      "\n"
     ]
    }
   ],
   "source": [
    "# Evaluate NB classifier using test data set\n",
    "pred = clf.predict(test_vec)\n",
    "print(metrics.classification_report(test_Xy.target, pred, target_names=test_Xy.target_names))"
   ]
  },
  {
   "cell_type": "code",
   "execution_count": 7,
   "metadata": {
    "collapsed": false
   },
   "outputs": [
    {
     "name": "stdout",
     "output_type": "stream",
     "text": [
      "array([[ 99,   1,   0,   2,   1,   1,   3,  11,   1,   1,   2,  14,   1,\n",
      "         10,  18,  57,   8,  43,  19,  27],\n",
      "       [  3, 113,  15,  17,   8, 110,   5,   7,   3,   2,   2,  51,  15,\n",
      "         18,  10,   3,   1,   5,   1,   0],\n",
      "       [  0,   9, 120,  52,   8, 118,   2,  16,   2,   1,   0,  26,   4,\n",
      "          7,  16,   4,   1,   2,   5,   1],\n",
      "       [  0,   7,  36, 201,  18,  42,   8,  12,   0,   0,   0,  19,  36,\n",
      "          5,   4,   2,   0,   1,   1,   0],\n",
      "       [  1,  10,  16,  44, 138,  33,  11,  23,   1,   0,   1,  30,  54,\n",
      "          7,   7,   2,   0,   5,   2,   0],\n",
      "       [  1,  14,   9,   7,   1, 306,   2,   8,   0,   4,   0,  26,   5,\n",
      "          5,   6,   0,   1,   0,   0,   0],\n",
      "       [  1,   7,   3,  30,  16,  15, 197,  30,   3,   0,   2,  14,  28,\n",
      "         15,  15,   1,   3,   6,   3,   1],\n",
      "       [  4,   1,   2,   0,   3,   7,   4, 277,   8,   5,   6,  14,  20,\n",
      "          7,  12,   2,   7,  13,   4,   0],\n",
      "       [  9,   3,   1,   0,   3,   5,   5,  82, 132,   7,   6,  27,  33,\n",
      "         10,  10,   8,  14,  27,  12,   4],\n",
      "       [  3,   1,   2,   0,   0,   7,   6,  23,   4, 245,  31,  14,   2,\n",
      "         10,  11,   4,   8,  12,   9,   5],\n",
      "       [  7,   0,   1,   2,   0,   2,   2,  10,   2,   9, 332,   6,   0,\n",
      "          2,   2,   3,   4,  12,   2,   1],\n",
      "       [  6,   2,   5,   1,   0,   7,   2,  20,   0,   2,   1, 285,   9,\n",
      "          5,   7,   4,   9,  23,   5,   3],\n",
      "       [  5,   7,   8,  14,  10,  27,  12,  21,   2,   2,   4,  66, 170,\n",
      "         13,  16,   2,   4,   7,   2,   1],\n",
      "       [  9,   1,   2,   1,   2,   3,   3,  24,   1,   1,   1,  14,  11,\n",
      "        255,  17,  13,  11,  16,   9,   2],\n",
      "       [  3,   5,   2,   1,   0,   9,   5,  19,   2,   2,   1,  17,  21,\n",
      "         13, 252,   5,   5,  21,  10,   1],\n",
      "       [ 13,   2,   0,   0,   1,   4,   0,  14,   1,   2,   0,   8,   0,\n",
      "          3,   6, 273,   4,  30,   8,  29],\n",
      "       [  8,   2,   0,   0,   1,   3,   1,  19,   2,   3,   0,  37,   7,\n",
      "          9,   3,   6, 174,  48,  21,  20],\n",
      "       [  8,   0,   0,   0,   0,   2,   1,   7,   0,   2,   2,  17,   1,\n",
      "          1,   1,   7,   8, 310,   7,   2],\n",
      "       [ 13,   0,   2,   0,   1,   1,   0,   8,   3,   0,   0,  35,   0,\n",
      "         11,  12,   9,  65,  53,  91,   6],\n",
      "       [ 29,   1,   1,   1,   0,   3,   1,   9,   3,   1,   1,  14,   3,\n",
      "          6,  11,  59,  16,  40,   8,  44]])\n"
     ]
    }
   ],
   "source": [
    "pprint(metrics.confusion_matrix(test_Xy.target, pred))"
   ]
  },
  {
   "cell_type": "code",
   "execution_count": 8,
   "metadata": {
    "collapsed": false
   },
   "outputs": [
    {
     "name": "stdout",
     "output_type": "stream",
     "text": [
      "0.532926181625\n"
     ]
    }
   ],
   "source": [
    "print(metrics.accuracy_score(test_Xy.target, pred))"
   ]
  },
  {
   "cell_type": "code",
   "execution_count": 9,
   "metadata": {
    "collapsed": false
   },
   "outputs": [],
   "source": [
    "# from scipy.linalg import get_blas_funcs\n",
    "# b_w_d = (X_u > 0).T.toarray()\n",
    "# lp_w_c = (clf.feature_log_prob_)\n",
    "# lp_d_c = get_blas_funcs(\"gemm\", (lp_w_c, b_w_d))\n",
    "# print type(lp_w_c), type(b_w_d), type(lp_d_c)\n",
    "# # lp_d_c(alpha=1.0, a=lp_w_c, b=b_w_d.T, trans_a=True, trans_b=True)\n",
    "# lp_d_c(alpha=1.0, a=lp_w_c, b=b_w_d).shape"
   ]
  },
  {
   "cell_type": "code",
   "execution_count": 10,
   "metadata": {
    "collapsed": false
   },
   "outputs": [],
   "source": [
    "# find the most informative features \n",
    "import numpy as np\n",
    "def show_topK(classifier, vectorizer, categories, K=10):\n",
    "    feature_names = np.asarray(vectorizer.get_feature_names())\n",
    "    for i, category in enumerate(categories):\n",
    "        topK = np.argsort(classifier.coef_[i])[-K:]\n",
    "        print(\"%s: %s\" % (category, \" \".join(feature_names[topK])))"
   ]
  },
  {
   "cell_type": "code",
   "execution_count": 11,
   "metadata": {
    "collapsed": false
   },
   "outputs": [
    {
     "name": "stdout",
     "output_type": "stream",
     "text": [
      "alt.atheism: talking islamic satan atheist evidence claim cheat does hillary moral freewill objective morality just people think islam don atheism god\n",
      "comp.graphics: images unix code don software using video windows help looking format use know program 3d image files file thanks graphics\n",
      "comp.os.ms-windows.misc: like hi drivers ms use using know microsoft problem program does mail card thanks ftp dos ax files file windows\n",
      "comp.sys.ibm.pc.hardware: board irq just does computer bios 486 monitor cards isa card use pc drives thanks ide bus controller scsi drive\n",
      "comp.sys.mac.hardware: mail disk lc cable fpu keyboard monitor speed problem serial c650 adb card know use thanks drive does mac apple\n",
      "comp.windows.x: windows widgets mouse mit ncd error clients manager running use using display xterm does file hi thanks motif server window\n",
      "misc.forsale: monitor best floppy 10 50 includes excellent asking used new sell drive price email 00 interested shipping condition offer sale\n",
      "rec.autos: vw tires know autos auto price new honda don good like speed saturn just oil ford dealer engine cars car\n",
      "rec.motorcycles: ll dwi right bmw really don fall know favorite think road riding honda like ride just motorcycle helmet dod bike\n",
      "rec.sport.baseball: record phillies braves did stadium player baseball hit pitching just league think runs home year jewish team games game players\n",
      "rec.sport.hockey: just captain traded playoffs teams pick pittsburgh pens playoff nhl roger games leafs year season players play game hockey team\n",
      "sci.crypt: secret encrypted law number use don secure people algorithm crypto phone security government escrow nsa keys clipper encryption chip key\n",
      "sci.electronics: detector switch want company audio circuit ground chips number line data output information like pin know does radar electronics use\n",
      "sci.med: doctor pain surrender pitt banks skepticism intellect shameful geb cadre chastity n3jxp dsl know does gordon food medical patients msg\n",
      "sci.space: astro launched know long don centaur rocket idea think program launch just like lunar earth satellite orbit moon nasa space\n",
      "soc.religion.christian: truth reason christian heaven does satan christianity love believe sin think people church life christians christ faith bible jesus god\n",
      "talk.politics.guns: used public don amendment waco know government just weapon time firearms law fbi weapons crime batf people right guns gun\n",
      "talk.politics.mideast: going genocide turks rights like american war palestinians said killed arabs palestinian turkish people armenian arab armenians jews israeli israel\n",
      "talk.politics.misc: rights let money gay like state just time make health clinton did think know government don jobs president tax people\n",
      "talk.religion.misc: objective life frank values does lds good evidence children believe think know said people mormons don bible jesus christian god\n"
     ]
    }
   ],
   "source": [
    "show_topK(clf, vectorizer, train_Xy.target_names, K=20)"
   ]
  },
  {
   "cell_type": "code",
   "execution_count": null,
   "metadata": {
    "collapsed": false
   },
   "outputs": [],
   "source": []
  },
  {
   "cell_type": "code",
   "execution_count": null,
   "metadata": {
    "collapsed": true
   },
   "outputs": [],
   "source": []
  }
 ],
 "metadata": {
  "kernelspec": {
   "display_name": "Python 2",
   "language": "python",
   "name": "python2"
  },
  "language_info": {
   "codemirror_mode": {
    "name": "ipython",
    "version": 2
   },
   "file_extension": ".py",
   "mimetype": "text/x-python",
   "name": "python",
   "nbconvert_exporter": "python",
   "pygments_lexer": "ipython2",
   "version": "2.7.13"
  }
 },
 "nbformat": 4,
 "nbformat_minor": 0
}
