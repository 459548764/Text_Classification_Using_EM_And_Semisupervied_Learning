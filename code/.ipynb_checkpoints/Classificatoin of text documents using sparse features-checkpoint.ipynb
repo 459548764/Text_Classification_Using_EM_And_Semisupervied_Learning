{
 "cells": [
  {
   "cell_type": "code",
   "execution_count": 3,
   "metadata": {
    "collapsed": false
   },
   "outputs": [],
   "source": [
    "from __future__ import print_function\n",
    "\n",
    "%matplotlib inline\n",
    "\n",
    "import logging\n",
    "import numpy as np\n",
    "from optparse import OptionParser\n",
    "import sys\n",
    "from time import time\n",
    "import matplotlib.pyplot as plt\n",
    "\n",
    "from sklearn.datasets import fetch_20newsgroups\n",
    "from sklearn.feature_extraction.text import TfidfVectorizer\n",
    "from sklearn.feature_extraction.text import HashingVectorizer\n",
    "from sklearn.feature_selection import SelectKBest, chi2\n",
    "from sklearn.pipeline import Pipeline\n",
    "from sklearn.svm import LinearSVC\n",
    "from sklearn.linear_model import RidgeClassifier\n",
    "from sklearn.linear_model import SGDClassifier\n",
    "from sklearn.linear_model import Perceptron\n",
    "from sklearn.linear_model import PassiveAggressiveClassifier\n",
    "from sklearn.naive_bayes import BernoulliNB, MultinomialNB\n",
    "from sklearn.neighbors import KNeighborsClassifier\n",
    "from sklearn.neighbors import NearestCentroid\n",
    "from sklearn.ensemble import RandomForestClassifier\n",
    "from sklearn.utils.extmath import density\n",
    "from sklearn import metrics"
   ]
  },
  {
   "cell_type": "code",
   "execution_count": null,
   "metadata": {
    "collapsed": true
   },
   "outputs": [],
   "source": [
    "# Display progress logs on stdout \n",
    "logging.basicConfig(level=logging.INFO, format='%(asctime)s %(levelname)s %(message)s')\n",
    "\n",
    "# parse commandline arguments\n",
    "op = OptionParser()\n",
    "op.add_option(\"--report\", action=\"store_true\", dest=\"print_report\", \n",
    "              help=\"Print a detailed classification report\")\n",
    "op.add_option(\"--chi2_select\", action=\"store\", type=\"int\", dest=\"select_chi2\", \n",
    "              help=\"Select some number of features using a chi-squared test\")\n",
    "op.add_option(\"--confusion_matrix\", action=\"store_true\", dest=\"print_cm\", \n",
    "              help=\"Print the confusion matrix.\")\n",
    "op.add_option(\"--top10\", action=\"store_true\", dest=\"print_top10\", \n",
    "              help=\"Print ten most discriminative terms per class for every classiifier.\")\n",
    "op.add_option(\"--all_categories\", action=\"store_true\", dest=\"all_categories\", \n",
    "              help=\"Whether to use all categories or not.\")\n",
    "op.add_option(\"--use_hashing\", action=\"store_true\", help=\"Use a hashing vectorizer\")\n",
    "op.add_option(\"--n_featuers\", action=\"store\", type=int, default=2**16, \n",
    "              help=\"n_features when using the hashing vectorizer.\")\n",
    "op.add_option(\"--filtered\", action=\"store_true\", \n",
    "              help=\"Remove newsgroup information that is easily overfit: headers, signatures, and quoting.\")\n",
    "\n",
    "(opts, args) = op.parse_args()\n",
    "if len(args)>0:\n",
    "    op.error(\"this script takes no arguments.\")\n",
    "    sys.exit(1)\n",
    "    \n",
    "print(__doc__)\n",
    "op.print_help()\n",
    "print()"
   ]
  }
 ],
 "metadata": {
  "kernelspec": {
   "display_name": "Python 2",
   "language": "python",
   "name": "python2"
  },
  "language_info": {
   "codemirror_mode": {
    "name": "ipython",
    "version": 2
   },
   "file_extension": ".py",
   "mimetype": "text/x-python",
   "name": "python",
   "nbconvert_exporter": "python",
   "pygments_lexer": "ipython2",
   "version": "2.7.13"
  }
 },
 "nbformat": 4,
 "nbformat_minor": 0
}
